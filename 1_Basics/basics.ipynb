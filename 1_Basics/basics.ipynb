{
 "cells": [
  {
   "cell_type": "markdown",
   "metadata": {},
   "source": [
    "## 1 - What is R?\n"
   ]
  },
  {
   "cell_type": "markdown",
   "metadata": {},
   "source": [
    "R is a computing environment that combines:\n",
    "\n",
    "* a programming language called S, developed by John Chambers at Bell Labs, that implements the idea of programming with data (Chambers 1998),\n",
    "\n",
    "* an extensive set of functions for classical and modern statistical data analysis and modeling,\n",
    "\n",
    "* powerful numerical analysis tools for linear algebra, differential equations, and stochastics,\n",
    "\n",
    "* graphics functions for visualizing data and model output,\n",
    "\n",
    "* a modular and extensible structure that supports a vast array of optional **add-on packages**, and\n",
    "\n",
    "* extensive help and documentation facilities.\n",
    "\n",
    "* **free** and **open source**\n",
    "\n",
    "* widely usedboth in academia and industry\n",
    "\n",
    "* teaser:  http://shiny.rstudio.com/gallery\n",
    "\n",
    "\n",
    "R is an open source software project, available for free download (R Core Team 2014a). Originally a research project in statistical computing (Ihaka and Gentleman 1996), it is now managed by a development team that includes a number of well-regarded statisticians, and is widely used by statistical researchers and working scientists as a platform for making new methods available to users.\n",
    "\n",
    "R has been developed by statisticians and is hence very **convenient for actuaries**.\n"
   ]
  },
  {
   "cell_type": "markdown",
   "metadata": {},
   "source": [
    "## 2 - What is RStudio?"
   ]
  },
  {
   "cell_type": "markdown",
   "metadata": {},
   "source": [
    "Rtudio (https://www.rstudio.com/) is an integrated Development Environment (IDE) for R:\n",
    "\n",
    "* like Microsoft Word, Excel, etc.\n",
    "* built to help you write R code, run R code, and analyze data with R\n",
    "* text editor, latex integration, debugging tool, version control\n",
    "* Easy reporting via RShiny\n",
    "\n",
    "To work with RStudio is one option to work with R. Other options are using Jupyter Notebooks (https://jupyter.org/).\n",
    "\n",
    "RStudio consists of four different panes, each keeps track of separate information. \n",
    "\n",
    "* R Console\n",
    "* R Scipt\n",
    "* Plot\n",
    "* Help files\n",
    "\n",
    "See a short video on https://www.rstudio.com/products/RStudio/#Desktop"
   ]
  },
  {
   "cell_type": "markdown",
   "metadata": {},
   "source": [
    "## 3 - Calculations"
   ]
  },
  {
   "cell_type": "markdown",
   "metadata": {},
   "source": [
    "### R as a simple caclulator"
   ]
  },
  {
   "cell_type": "code",
   "execution_count": 44,
   "metadata": {},
   "outputs": [
    {
     "data": {
      "text/html": [
       "1.4142135623731"
      ],
      "text/latex": [
       "1.4142135623731"
      ],
      "text/markdown": [
       "1.4142135623731"
      ],
      "text/plain": [
       "[1] 1.414214"
      ]
     },
     "metadata": {},
     "output_type": "display_data"
    },
    {
     "data": {
      "text/html": [
       "12"
      ],
      "text/latex": [
       "12"
      ],
      "text/markdown": [
       "12"
      ],
      "text/plain": [
       "[1] 12"
      ]
     },
     "metadata": {},
     "output_type": "display_data"
    },
    {
     "data": {
      "text/html": [
       "-2.44929359829471e-16"
      ],
      "text/latex": [
       "-2.44929359829471e-16"
      ],
      "text/markdown": [
       "-2.44929359829471e-16"
      ],
      "text/plain": [
       "[1] -2.449294e-16"
      ]
     },
     "metadata": {},
     "output_type": "display_data"
    }
   ],
   "source": [
    "# Calculate 3 + 4\n",
    "sqrt(2)\n",
    "x <- 3\n",
    "y <- x^2\n",
    "x + y\n",
    "sin(2*pi)"
   ]
  },
  {
   "cell_type": "markdown",
   "metadata": {},
   "source": [
    "### Creating vectors"
   ]
  },
  {
   "cell_type": "code",
   "execution_count": 47,
   "metadata": {},
   "outputs": [
    {
     "data": {
      "text/html": [
       "<ol class=list-inline>\n",
       "\t<li>1</li>\n",
       "\t<li>5</li>\n",
       "\t<li>80</li>\n",
       "</ol>\n"
      ],
      "text/latex": [
       "\\begin{enumerate*}\n",
       "\\item 1\n",
       "\\item 5\n",
       "\\item 80\n",
       "\\end{enumerate*}\n"
      ],
      "text/markdown": [
       "1. 1\n",
       "2. 5\n",
       "3. 80\n",
       "\n",
       "\n"
      ],
      "text/plain": [
       "[1]  1  5 80"
      ]
     },
     "metadata": {},
     "output_type": "display_data"
    },
    {
     "data": {
      "text/html": [
       "<ol class=list-inline>\n",
       "\t<li>2</li>\n",
       "\t<li>3</li>\n",
       "\t<li>4</li>\n",
       "\t<li>5</li>\n",
       "\t<li>6</li>\n",
       "\t<li>7</li>\n",
       "\t<li>8</li>\n",
       "\t<li>9</li>\n",
       "\t<li>10</li>\n",
       "\t<li>11</li>\n",
       "</ol>\n"
      ],
      "text/latex": [
       "\\begin{enumerate*}\n",
       "\\item 2\n",
       "\\item 3\n",
       "\\item 4\n",
       "\\item 5\n",
       "\\item 6\n",
       "\\item 7\n",
       "\\item 8\n",
       "\\item 9\n",
       "\\item 10\n",
       "\\item 11\n",
       "\\end{enumerate*}\n"
      ],
      "text/markdown": [
       "1. 2\n",
       "2. 3\n",
       "3. 4\n",
       "4. 5\n",
       "5. 6\n",
       "6. 7\n",
       "7. 8\n",
       "8. 9\n",
       "9. 10\n",
       "10. 11\n",
       "\n",
       "\n"
      ],
      "text/plain": [
       " [1]  2  3  4  5  6  7  8  9 10 11"
      ]
     },
     "metadata": {},
     "output_type": "display_data"
    },
    {
     "data": {
      "text/html": [
       "9.83333333333333"
      ],
      "text/latex": [
       "9.83333333333333"
      ],
      "text/markdown": [
       "9.83333333333333"
      ],
      "text/plain": [
       "[1] 9.833333"
      ]
     },
     "metadata": {},
     "output_type": "display_data"
    },
    {
     "data": {
      "text/html": [
       "59"
      ],
      "text/latex": [
       "59"
      ],
      "text/markdown": [
       "59"
      ],
      "text/plain": [
       "[1] 59"
      ]
     },
     "metadata": {},
     "output_type": "display_data"
    }
   ],
   "source": [
    "c(1, 5, 80)\n",
    "2:11\n",
    "a <- c(1, 6, 10, 22, 7, 13)\n",
    "mean(a)\n",
    "sum(a)"
   ]
  },
  {
   "cell_type": "markdown",
   "metadata": {},
   "source": [
    "### Creating matrices and data frames"
   ]
  },
  {
   "cell_type": "code",
   "execution_count": 56,
   "metadata": {},
   "outputs": [
    {
     "data": {
      "text/html": [
       "<table>\n",
       "<tbody>\n",
       "\t<tr><td>NA</td></tr>\n",
       "</tbody>\n",
       "</table>\n"
      ],
      "text/latex": [
       "\\begin{tabular}{l}\n",
       "\t NA\\\\\n",
       "\\end{tabular}\n"
      ],
      "text/markdown": [
       "\n",
       "| NA |\n",
       "\n"
      ],
      "text/plain": [
       "     [,1]\n",
       "[1,] NA  "
      ]
     },
     "metadata": {},
     "output_type": "display_data"
    },
    {
     "data": {
      "text/html": [
       "<table>\n",
       "<tbody>\n",
       "\t<tr><td>1</td><td>2</td></tr>\n",
       "\t<tr><td>3</td><td>4</td></tr>\n",
       "\t<tr><td>5</td><td>6</td></tr>\n",
       "</tbody>\n",
       "</table>\n"
      ],
      "text/latex": [
       "\\begin{tabular}{ll}\n",
       "\t 1 & 2\\\\\n",
       "\t 3 & 4\\\\\n",
       "\t 5 & 6\\\\\n",
       "\\end{tabular}\n"
      ],
      "text/markdown": [
       "\n",
       "| 1 | 2 |\n",
       "| 3 | 4 |\n",
       "| 5 | 6 |\n",
       "\n"
      ],
      "text/plain": [
       "     [,1] [,2]\n",
       "[1,] 1    2   \n",
       "[2,] 3    4   \n",
       "[3,] 5    6   "
      ]
     },
     "metadata": {},
     "output_type": "display_data"
    }
   ],
   "source": [
    "matrix()\n",
    "m <- matrix(1:6, nrow=3, ncol=2, byrow = TRUE)\n",
    "m"
   ]
  },
  {
   "cell_type": "code",
   "execution_count": 60,
   "metadata": {},
   "outputs": [
    {
     "data": {
      "text/html": [],
      "text/latex": [],
      "text/markdown": [],
      "text/plain": [
       "<0 x 0 matrix>"
      ]
     },
     "metadata": {},
     "output_type": "display_data"
    },
    {
     "data": {
      "text/html": [
       "<table>\n",
       "<thead><tr><th scope=col>Name</th><th scope=col>Gender</th><th scope=col>Age</th></tr></thead>\n",
       "<tbody>\n",
       "\t<tr><td>I  </td><td>0  </td><td>21 </td></tr>\n",
       "\t<tr><td>You</td><td>1  </td><td>47 </td></tr>\n",
       "\t<tr><td>He </td><td>0  </td><td>33 </td></tr>\n",
       "</tbody>\n",
       "</table>\n"
      ],
      "text/latex": [
       "\\begin{tabular}{r|lll}\n",
       " Name & Gender & Age\\\\\n",
       "\\hline\n",
       "\t I   & 0   & 21 \\\\\n",
       "\t You & 1   & 47 \\\\\n",
       "\t He  & 0   & 33 \\\\\n",
       "\\end{tabular}\n"
      ],
      "text/markdown": [
       "\n",
       "| Name | Gender | Age |\n",
       "|---|---|---|\n",
       "| I   | 0   | 21  |\n",
       "| You | 1   | 47  |\n",
       "| He  | 0   | 33  |\n",
       "\n"
      ],
      "text/plain": [
       "  Name Gender Age\n",
       "1 I    0      21 \n",
       "2 You  1      47 \n",
       "3 He   0      33 "
      ]
     },
     "metadata": {},
     "output_type": "display_data"
    }
   ],
   "source": [
    "data.frame()\n",
    "df <- data.frame(Name = c(\"I\",\"You\",\"He\"),Gender = as.factor(c(0,1,0)), Age = c(21,47,33))\n",
    "df"
   ]
  },
  {
   "cell_type": "markdown",
   "metadata": {},
   "source": [
    "### An **R statement** may consist of..."
   ]
  },
  {
   "cell_type": "markdown",
   "metadata": {},
   "source": [
    "* an asignment stores the result of the calculation under temp_a and temp_b"
   ]
  },
  {
   "cell_type": "code",
   "execution_count": 74,
   "metadata": {},
   "outputs": [],
   "source": [
    "temp_a <- 3 * (4 + 2)\n",
    "temp_b <- temp_a + 2.5"
   ]
  },
  {
   "cell_type": "markdown",
   "metadata": {},
   "source": [
    "* a name of an object: display object"
   ]
  },
  {
   "cell_type": "code",
   "execution_count": 83,
   "metadata": {},
   "outputs": [
    {
     "data": {
      "text/html": [
       "18"
      ],
      "text/latex": [
       "18"
      ],
      "text/markdown": [
       "18"
      ],
      "text/plain": [
       "[1] 18"
      ]
     },
     "metadata": {},
     "output_type": "display_data"
    }
   ],
   "source": [
    "temp_a"
   ]
  },
  {
   "cell_type": "markdown",
   "metadata": {},
   "source": [
    "* a call to a function:  numerical or graphical result"
   ]
  },
  {
   "cell_type": "code",
   "execution_count": 97,
   "metadata": {},
   "outputs": [
    {
     "data": {
      "text/html": [
       "19.25"
      ],
      "text/latex": [
       "19.25"
      ],
      "text/markdown": [
       "19.25"
      ],
      "text/plain": [
       "[1] 19.25"
      ]
     },
     "metadata": {},
     "output_type": "display_data"
    }
   ],
   "source": [
    "mean(c(temp_a,temp_b))\n",
    "mn <- mean(c(temp_a,temp_b))"
   ]
  },
  {
   "cell_type": "markdown",
   "metadata": {},
   "source": [
    "A function is called by its name followed by ()."
   ]
  },
  {
   "cell_type": "markdown",
   "metadata": {},
   "source": [
    "### Assignment and Workspace"
   ]
  },
  {
   "cell_type": "markdown",
   "metadata": {},
   "source": [
    "* Everything in R is an object and has a certain name like temp_a, mean, mn.\n",
    "* R stores objects in your workspace"
   ]
  },
  {
   "cell_type": "code",
   "execution_count": 123,
   "metadata": {},
   "outputs": [],
   "source": [
    "temp_a <- 3 * (4 + 2)"
   ]
  },
  {
   "cell_type": "markdown",
   "metadata": {},
   "source": [
    "* ATTENTION: Overwriting an object in R throughs no warning"
   ]
  },
  {
   "cell_type": "code",
   "execution_count": 135,
   "metadata": {},
   "outputs": [
    {
     "data": {
      "text/html": [
       "420.25"
      ],
      "text/latex": [
       "420.25"
      ],
      "text/markdown": [
       "420.25"
      ],
      "text/plain": [
       "[1] 420.25"
      ]
     },
     "metadata": {},
     "output_type": "display_data"
    }
   ],
   "source": [
    "temp_a <- temp_b^2\n",
    "temp_a"
   ]
  },
  {
   "cell_type": "markdown",
   "metadata": {},
   "source": [
    "## 4 - Where to find help?"
   ]
  },
  {
   "cell_type": "markdown",
   "metadata": {},
   "source": [
    "* Help about any function"
   ]
  },
  {
   "cell_type": "code",
   "execution_count": 154,
   "metadata": {},
   "outputs": [
    {
     "data": {
      "text/html": [
       "\n",
       "<table width=\"100%\" summary=\"page for lm {stats}\"><tr><td>lm {stats}</td><td style=\"text-align: right;\">R Documentation</td></tr></table>\n",
       "\n",
       "<h2>Fitting Linear Models</h2>\n",
       "\n",
       "<h3>Description</h3>\n",
       "\n",
       "<p><code>lm</code> is used to fit linear models.\n",
       "It can be used to carry out regression,\n",
       "single stratum analysis of variance and\n",
       "analysis of covariance (although <code>aov</code> may provide a more\n",
       "convenient interface for these).\n",
       "</p>\n",
       "\n",
       "\n",
       "<h3>Usage</h3>\n",
       "\n",
       "<pre>\n",
       "lm(formula, data, subset, weights, na.action,\n",
       "   method = \"qr\", model = TRUE, x = FALSE, y = FALSE, qr = TRUE,\n",
       "   singular.ok = TRUE, contrasts = NULL, offset, ...)\n",
       "</pre>\n",
       "\n",
       "\n",
       "<h3>Arguments</h3>\n",
       "\n",
       "<table summary=\"R argblock\">\n",
       "<tr valign=\"top\"><td><code>formula</code></td>\n",
       "<td>\n",
       "<p>an object of class <code>\"formula\"</code> (or one that\n",
       "can be coerced to that class): a symbolic description of the\n",
       "model to be fitted.  The details of model specification are given\n",
       "under &lsquo;Details&rsquo;.</p>\n",
       "</td></tr>\n",
       "<tr valign=\"top\"><td><code>data</code></td>\n",
       "<td>\n",
       "<p>an optional data frame, list or environment (or object\n",
       "coercible by <code>as.data.frame</code> to a data frame) containing\n",
       "the variables in the model.  If not found in <code>data</code>, the\n",
       "variables are taken from <code>environment(formula)</code>,\n",
       "typically the environment from which <code>lm</code> is called.</p>\n",
       "</td></tr>\n",
       "<tr valign=\"top\"><td><code>subset</code></td>\n",
       "<td>\n",
       "<p>an optional vector specifying a subset of observations\n",
       "to be used in the fitting process.</p>\n",
       "</td></tr>\n",
       "<tr valign=\"top\"><td><code>weights</code></td>\n",
       "<td>\n",
       "<p>an optional vector of weights to be used in the fitting\n",
       "process.  Should be <code>NULL</code> or a numeric vector.\n",
       "If non-NULL, weighted least squares is used with weights\n",
       "<code>weights</code> (that is, minimizing <code>sum(w*e^2)</code>); otherwise\n",
       "ordinary least squares is used.  See also &lsquo;Details&rsquo;,</p>\n",
       "</td></tr>\n",
       "<tr valign=\"top\"><td><code>na.action</code></td>\n",
       "<td>\n",
       "<p>a function which indicates what should happen\n",
       "when the data contain <code>NA</code>s.  The default is set by\n",
       "the <code>na.action</code> setting of <code>options</code>, and is\n",
       "<code>na.fail</code> if that is unset.  The &lsquo;factory-fresh&rsquo;\n",
       "default is <code>na.omit</code>.  Another possible value is\n",
       "<code>NULL</code>, no action.  Value <code>na.exclude</code> can be useful.</p>\n",
       "</td></tr>\n",
       "<tr valign=\"top\"><td><code>method</code></td>\n",
       "<td>\n",
       "<p>the method to be used; for fitting, currently only\n",
       "<code>method = \"qr\"</code> is supported; <code>method = \"model.frame\"</code> returns\n",
       "the model frame (the same as with <code>model = TRUE</code>, see below).</p>\n",
       "</td></tr>\n",
       "<tr valign=\"top\"><td><code>model, x, y, qr</code></td>\n",
       "<td>\n",
       "<p>logicals.  If <code>TRUE</code> the corresponding\n",
       "components of the fit (the model frame, the model matrix, the\n",
       "response, the QR decomposition) are returned.\n",
       "</p>\n",
       "</td></tr>\n",
       "<tr valign=\"top\"><td><code>singular.ok</code></td>\n",
       "<td>\n",
       "<p>logical. If <code>FALSE</code> (the default in S but\n",
       "not in <span style=\"font-family: Courier New, Courier; color: #666666;\"><b>R</b></span>) a singular fit is an error.</p>\n",
       "</td></tr>\n",
       "<tr valign=\"top\"><td><code>contrasts</code></td>\n",
       "<td>\n",
       "<p>an optional list. See the <code>contrasts.arg</code>\n",
       "of <code>model.matrix.default</code>.</p>\n",
       "</td></tr>\n",
       "<tr valign=\"top\"><td><code>offset</code></td>\n",
       "<td>\n",
       "<p>this can be used to specify an <em>a priori</em> known\n",
       "component to be included in the linear predictor during fitting.\n",
       "This should be <code>NULL</code> or a numeric vector of length equal to\n",
       "the number of cases.  One or more <code>offset</code> terms can be\n",
       "included in the formula instead or as well, and if more than one are\n",
       "specified their sum is used.  See <code>model.offset</code>.</p>\n",
       "</td></tr>\n",
       "<tr valign=\"top\"><td><code>...</code></td>\n",
       "<td>\n",
       "<p>additional arguments to be passed to the low level\n",
       "regression fitting functions (see below).</p>\n",
       "</td></tr>\n",
       "</table>\n",
       "\n",
       "\n",
       "<h3>Details</h3>\n",
       "\n",
       "<p>Models for <code>lm</code> are specified symbolically.  A typical model has\n",
       "the form <code>response ~ terms</code> where <code>response</code> is the (numeric)\n",
       "response vector and <code>terms</code> is a series of terms which specifies a\n",
       "linear predictor for <code>response</code>.  A terms specification of the form\n",
       "<code>first + second</code> indicates all the terms in <code>first</code> together\n",
       "with all the terms in <code>second</code> with duplicates removed.  A\n",
       "specification of the form <code>first:second</code> indicates the set of\n",
       "terms obtained by taking the interactions of all terms in <code>first</code>\n",
       "with all terms in <code>second</code>.  The specification <code>first*second</code>\n",
       "indicates the <em>cross</em> of <code>first</code> and <code>second</code>.  This is\n",
       "the same as <code>first + second + first:second</code>.\n",
       "</p>\n",
       "<p>If the formula includes an <code>offset</code>, this is evaluated and\n",
       "subtracted from the response.\n",
       "</p>\n",
       "<p>If <code>response</code> is a matrix a linear model is fitted separately by\n",
       "least-squares to each column of the matrix.\n",
       "</p>\n",
       "<p>See <code>model.matrix</code> for some further details.  The terms in\n",
       "the formula will be re-ordered so that main effects come first,\n",
       "followed by the interactions, all second-order, all third-order and so\n",
       "on: to avoid this pass a <code>terms</code> object as the formula (see\n",
       "<code>aov</code> and <code>demo(glm.vr)</code> for an example).\n",
       "</p>\n",
       "<p>A formula has an implied intercept term.  To remove this use either\n",
       "<code>y ~ x - 1</code> or <code>y ~ 0 + x</code>.  See <code>formula</code> for\n",
       "more details of allowed formulae.\n",
       "</p>\n",
       "<p>Non-<code>NULL</code> <code>weights</code> can be used to indicate that different\n",
       "observations have different variances (with the values in\n",
       "<code>weights</code> being inversely proportional to the variances); or\n",
       "equivalently, when the elements of <code>weights</code> are positive\n",
       "integers <i>w_i</i>, that each response <i>y_i</i> is the mean of\n",
       "<i>w_i</i> unit-weight observations (including the case that there are\n",
       "<i>w_i</i> observations equal to <i>y_i</i> and the data have been\n",
       "summarized).\n",
       "</p>\n",
       "<p><code>lm</code> calls the lower level functions <code>lm.fit</code>, etc,\n",
       "see below, for the actual numerical computations.  For programming\n",
       "only, you may consider doing likewise.\n",
       "</p>\n",
       "<p>All of <code>weights</code>, <code>subset</code> and <code>offset</code> are evaluated\n",
       "in the same way as variables in <code>formula</code>, that is first in\n",
       "<code>data</code> and then in the environment of <code>formula</code>.\n",
       "</p>\n",
       "\n",
       "\n",
       "<h3>Value</h3>\n",
       "\n",
       "<p><code>lm</code> returns an object of <code>class</code> <code>\"lm\"</code> or for\n",
       "multiple responses of class <code>c(\"mlm\", \"lm\")</code>.\n",
       "</p>\n",
       "<p>The functions <code>summary</code> and <code>anova</code> are used to\n",
       "obtain and print a summary and analysis of variance table of the\n",
       "results.  The generic accessor functions <code>coefficients</code>,\n",
       "<code>effects</code>, <code>fitted.values</code> and <code>residuals</code> extract\n",
       "various useful features of the value returned by <code>lm</code>.\n",
       "</p>\n",
       "<p>An object of class <code>\"lm\"</code> is a list containing at least the\n",
       "following components:\n",
       "</p>\n",
       "<table summary=\"R valueblock\">\n",
       "<tr valign=\"top\"><td><code>coefficients</code></td>\n",
       "<td>\n",
       "<p>a named vector of coefficients</p>\n",
       "</td></tr>\n",
       "<tr valign=\"top\"><td><code>residuals</code></td>\n",
       "<td>\n",
       "<p>the residuals, that is response minus fitted values.</p>\n",
       "</td></tr>\n",
       "<tr valign=\"top\"><td><code>fitted.values</code></td>\n",
       "<td>\n",
       "<p>the fitted mean values.</p>\n",
       "</td></tr>\n",
       "<tr valign=\"top\"><td><code>rank</code></td>\n",
       "<td>\n",
       "<p>the numeric rank of the fitted linear model.</p>\n",
       "</td></tr>\n",
       "<tr valign=\"top\"><td><code>weights</code></td>\n",
       "<td>\n",
       "<p>(only for weighted fits) the specified weights.</p>\n",
       "</td></tr>\n",
       "<tr valign=\"top\"><td><code>df.residual</code></td>\n",
       "<td>\n",
       "<p>the residual degrees of freedom.</p>\n",
       "</td></tr>\n",
       "<tr valign=\"top\"><td><code>call</code></td>\n",
       "<td>\n",
       "<p>the matched call.</p>\n",
       "</td></tr>\n",
       "<tr valign=\"top\"><td><code>terms</code></td>\n",
       "<td>\n",
       "<p>the <code>terms</code> object used.</p>\n",
       "</td></tr>\n",
       "<tr valign=\"top\"><td><code>contrasts</code></td>\n",
       "<td>\n",
       "<p>(only where relevant) the contrasts used.</p>\n",
       "</td></tr>\n",
       "<tr valign=\"top\"><td><code>xlevels</code></td>\n",
       "<td>\n",
       "<p>(only where relevant) a record of the levels of the\n",
       "factors used in fitting.</p>\n",
       "</td></tr>\n",
       "<tr valign=\"top\"><td><code>offset</code></td>\n",
       "<td>\n",
       "<p>the offset used (missing if none were used).</p>\n",
       "</td></tr>\n",
       "<tr valign=\"top\"><td><code>y</code></td>\n",
       "<td>\n",
       "<p>if requested, the response used.</p>\n",
       "</td></tr>\n",
       "<tr valign=\"top\"><td><code>x</code></td>\n",
       "<td>\n",
       "<p>if requested, the model matrix used.</p>\n",
       "</td></tr>\n",
       "<tr valign=\"top\"><td><code>model</code></td>\n",
       "<td>\n",
       "<p>if requested (the default), the model frame used.</p>\n",
       "</td></tr>\n",
       "<tr valign=\"top\"><td><code>na.action</code></td>\n",
       "<td>\n",
       "<p>(where relevant) information returned by\n",
       "<code>model.frame</code> on the special handling of <code>NA</code>s.</p>\n",
       "</td></tr>\n",
       "</table>\n",
       "<p>In addition, non-null fits will have components <code>assign</code>,\n",
       "<code>effects</code> and (unless not requested) <code>qr</code> relating to the linear\n",
       "fit, for use by extractor functions such as <code>summary</code> and\n",
       "<code>effects</code>.\n",
       "</p>\n",
       "\n",
       "\n",
       "<h3>Using time series</h3>\n",
       "\n",
       "<p>Considerable care is needed when using <code>lm</code> with time series.\n",
       "</p>\n",
       "<p>Unless <code>na.action = NULL</code>, the time series attributes are\n",
       "stripped from the variables before the regression is done.  (This is\n",
       "necessary as omitting <code>NA</code>s would invalidate the time series\n",
       "attributes, and if <code>NA</code>s are omitted in the middle of the series\n",
       "the result would no longer be a regular time series.)\n",
       "</p>\n",
       "<p>Even if the time series attributes are retained, they are not used to\n",
       "line up series, so that the time shift of a lagged or differenced\n",
       "regressor would be ignored.  It is good practice to prepare a\n",
       "<code>data</code> argument by <code>ts.intersect(..., dframe = TRUE)</code>,\n",
       "then apply a suitable <code>na.action</code> to that data frame and call\n",
       "<code>lm</code> with <code>na.action = NULL</code> so that residuals and fitted\n",
       "values are time series.\n",
       "</p>\n",
       "\n",
       "\n",
       "<h3>Note</h3>\n",
       "\n",
       "<p>Offsets specified by <code>offset</code> will not be included in predictions\n",
       "by <code>predict.lm</code>, whereas those specified by an offset term\n",
       "in the formula will be.\n",
       "</p>\n",
       "\n",
       "\n",
       "<h3>Author(s)</h3>\n",
       "\n",
       "<p>The design was inspired by the S function of the same name described\n",
       "in Chambers (1992).  The implementation of model formula by Ross Ihaka\n",
       "was based on Wilkinson &amp; Rogers (1973).\n",
       "</p>\n",
       "\n",
       "\n",
       "<h3>References</h3>\n",
       "\n",
       "<p>Chambers, J. M. (1992)\n",
       "<em>Linear models.</em>\n",
       "Chapter 4 of <em>Statistical Models in S</em>\n",
       "eds J. M. Chambers and T. J. Hastie, Wadsworth &amp; Brooks/Cole.\n",
       "</p>\n",
       "<p>Wilkinson, G. N. and Rogers, C. E. (1973)\n",
       "Symbolic descriptions of factorial models for analysis of variance.\n",
       "<em>Applied Statistics</em>, <b>22</b>, 392&ndash;9.\n",
       "</p>\n",
       "\n",
       "\n",
       "<h3>See Also</h3>\n",
       "\n",
       "<p><code>summary.lm</code> for summaries and <code>anova.lm</code> for\n",
       "the ANOVA table; <code>aov</code> for a different interface.\n",
       "</p>\n",
       "<p>The generic functions <code>coef</code>, <code>effects</code>,\n",
       "<code>residuals</code>, <code>fitted</code>, <code>vcov</code>.\n",
       "</p>\n",
       "<p><code>predict.lm</code> (via <code>predict</code>) for prediction,\n",
       "including confidence and prediction intervals;\n",
       "<code>confint</code> for confidence intervals of <em>parameters</em>.\n",
       "</p>\n",
       "<p><code>lm.influence</code> for regression diagnostics, and\n",
       "<code>glm</code> for <b>generalized</b> linear models.\n",
       "</p>\n",
       "<p>The underlying low level functions,\n",
       "<code>lm.fit</code> for plain, and <code>lm.wfit</code> for weighted\n",
       "regression fitting.\n",
       "</p>\n",
       "<p>More <code>lm()</code> examples are available e.g., in\n",
       "<code>anscombe</code>, <code>attitude</code>, <code>freeny</code>,\n",
       "<code>LifeCycleSavings</code>, <code>longley</code>,\n",
       "<code>stackloss</code>, <code>swiss</code>.\n",
       "</p>\n",
       "<p><code>biglm</code> in package <a href=\"https://CRAN.R-project.org/package=biglm\"><span class=\"pkg\">biglm</span></a> for an alternative\n",
       "way to fit linear models to large datasets (especially those with many\n",
       "cases).\n",
       "</p>\n",
       "\n",
       "\n",
       "<h3>Examples</h3>\n",
       "\n",
       "<pre>\n",
       "require(graphics)\n",
       "\n",
       "## Annette Dobson (1990) \"An Introduction to Generalized Linear Models\".\n",
       "## Page 9: Plant Weight Data.\n",
       "ctl &lt;- c(4.17,5.58,5.18,6.11,4.50,4.61,5.17,4.53,5.33,5.14)\n",
       "trt &lt;- c(4.81,4.17,4.41,3.59,5.87,3.83,6.03,4.89,4.32,4.69)\n",
       "group &lt;- gl(2, 10, 20, labels = c(\"Ctl\",\"Trt\"))\n",
       "weight &lt;- c(ctl, trt)\n",
       "lm.D9 &lt;- lm(weight ~ group)\n",
       "lm.D90 &lt;- lm(weight ~ group - 1) # omitting intercept\n",
       "\n",
       "anova(lm.D9)\n",
       "summary(lm.D90)\n",
       "\n",
       "opar &lt;- par(mfrow = c(2,2), oma = c(0, 0, 1.1, 0))\n",
       "plot(lm.D9, las = 1)      # Residuals, Fitted, ...\n",
       "par(opar)\n",
       "\n",
       "### less simple examples in \"See Also\" above\n",
       "</pre>\n",
       "\n",
       "<hr /><div style=\"text-align: center;\">[Package <em>stats</em> version 3.4.4 ]</div>"
      ],
      "text/latex": [
       "\\inputencoding{utf8}\n",
       "\\HeaderA{lm}{Fitting Linear Models}{lm}\n",
       "\\keyword{regression}{lm}\n",
       "%\n",
       "\\begin{Description}\\relax\n",
       "\\code{lm} is used to fit linear models.\n",
       "It can be used to carry out regression,\n",
       "single stratum analysis of variance and\n",
       "analysis of covariance (although \\code{\\LinkA{aov}{aov}} may provide a more\n",
       "convenient interface for these).\n",
       "\\end{Description}\n",
       "%\n",
       "\\begin{Usage}\n",
       "\\begin{verbatim}\n",
       "lm(formula, data, subset, weights, na.action,\n",
       "   method = \"qr\", model = TRUE, x = FALSE, y = FALSE, qr = TRUE,\n",
       "   singular.ok = TRUE, contrasts = NULL, offset, ...)\n",
       "\\end{verbatim}\n",
       "\\end{Usage}\n",
       "%\n",
       "\\begin{Arguments}\n",
       "\\begin{ldescription}\n",
       "\\item[\\code{formula}] an object of class \\code{\"\\LinkA{formula}{formula}\"} (or one that\n",
       "can be coerced to that class): a symbolic description of the\n",
       "model to be fitted.  The details of model specification are given\n",
       "under `Details'.\n",
       "\n",
       "\\item[\\code{data}] an optional data frame, list or environment (or object\n",
       "coercible by \\code{\\LinkA{as.data.frame}{as.data.frame}} to a data frame) containing\n",
       "the variables in the model.  If not found in \\code{data}, the\n",
       "variables are taken from \\code{environment(formula)},\n",
       "typically the environment from which \\code{lm} is called.\n",
       "\n",
       "\\item[\\code{subset}] an optional vector specifying a subset of observations\n",
       "to be used in the fitting process.\n",
       "\n",
       "\\item[\\code{weights}] an optional vector of weights to be used in the fitting\n",
       "process.  Should be \\code{NULL} or a numeric vector.\n",
       "If non-NULL, weighted least squares is used with weights\n",
       "\\code{weights} (that is, minimizing \\code{sum(w*e\\textasciicircum{}2)}); otherwise\n",
       "ordinary least squares is used.  See also `Details',\n",
       "\n",
       "\\item[\\code{na.action}] a function which indicates what should happen\n",
       "when the data contain \\code{NA}s.  The default is set by\n",
       "the \\code{na.action} setting of \\code{\\LinkA{options}{options}}, and is\n",
       "\\code{\\LinkA{na.fail}{na.fail}} if that is unset.  The `factory-fresh'\n",
       "default is \\code{\\LinkA{na.omit}{na.omit}}.  Another possible value is\n",
       "\\code{NULL}, no action.  Value \\code{\\LinkA{na.exclude}{na.exclude}} can be useful.\n",
       "\n",
       "\\item[\\code{method}] the method to be used; for fitting, currently only\n",
       "\\code{method = \"qr\"} is supported; \\code{method = \"model.frame\"} returns\n",
       "the model frame (the same as with \\code{model = TRUE}, see below).\n",
       "\n",
       "\\item[\\code{model, x, y, qr}] logicals.  If \\code{TRUE} the corresponding\n",
       "components of the fit (the model frame, the model matrix, the\n",
       "response, the QR decomposition) are returned.\n",
       "\n",
       "\n",
       "\\item[\\code{singular.ok}] logical. If \\code{FALSE} (the default in S but\n",
       "not in \\R{}) a singular fit is an error.\n",
       "\n",
       "\\item[\\code{contrasts}] an optional list. See the \\code{contrasts.arg}\n",
       "of \\code{\\LinkA{model.matrix.default}{model.matrix.default}}.\n",
       "\n",
       "\\item[\\code{offset}] this can be used to specify an \\emph{a priori} known\n",
       "component to be included in the linear predictor during fitting.\n",
       "This should be \\code{NULL} or a numeric vector of length equal to\n",
       "the number of cases.  One or more \\code{\\LinkA{offset}{offset}} terms can be\n",
       "included in the formula instead or as well, and if more than one are\n",
       "specified their sum is used.  See \\code{\\LinkA{model.offset}{model.offset}}.\n",
       "\n",
       "\\item[\\code{...}] additional arguments to be passed to the low level\n",
       "regression fitting functions (see below).\n",
       "\\end{ldescription}\n",
       "\\end{Arguments}\n",
       "%\n",
       "\\begin{Details}\\relax\n",
       "Models for \\code{lm} are specified symbolically.  A typical model has\n",
       "the form \\code{response \\textasciitilde{} terms} where \\code{response} is the (numeric)\n",
       "response vector and \\code{terms} is a series of terms which specifies a\n",
       "linear predictor for \\code{response}.  A terms specification of the form\n",
       "\\code{first + second} indicates all the terms in \\code{first} together\n",
       "with all the terms in \\code{second} with duplicates removed.  A\n",
       "specification of the form \\code{first:second} indicates the set of\n",
       "terms obtained by taking the interactions of all terms in \\code{first}\n",
       "with all terms in \\code{second}.  The specification \\code{first*second}\n",
       "indicates the \\emph{cross} of \\code{first} and \\code{second}.  This is\n",
       "the same as \\code{first + second + first:second}.\n",
       "\n",
       "If the formula includes an \\code{\\LinkA{offset}{offset}}, this is evaluated and\n",
       "subtracted from the response.\n",
       "\n",
       "If \\code{response} is a matrix a linear model is fitted separately by\n",
       "least-squares to each column of the matrix.\n",
       "\n",
       "See \\code{\\LinkA{model.matrix}{model.matrix}} for some further details.  The terms in\n",
       "the formula will be re-ordered so that main effects come first,\n",
       "followed by the interactions, all second-order, all third-order and so\n",
       "on: to avoid this pass a \\code{terms} object as the formula (see\n",
       "\\code{\\LinkA{aov}{aov}} and \\code{demo(glm.vr)} for an example).\n",
       "\n",
       "A formula has an implied intercept term.  To remove this use either\n",
       "\\code{y \\textasciitilde{} x - 1} or \\code{y \\textasciitilde{} 0 + x}.  See \\code{\\LinkA{formula}{formula}} for\n",
       "more details of allowed formulae.\n",
       "\n",
       "Non-\\code{NULL} \\code{weights} can be used to indicate that different\n",
       "observations have different variances (with the values in\n",
       "\\code{weights} being inversely proportional to the variances); or\n",
       "equivalently, when the elements of \\code{weights} are positive\n",
       "integers \\eqn{w_i}{}, that each response \\eqn{y_i}{} is the mean of\n",
       "\\eqn{w_i}{} unit-weight observations (including the case that there are\n",
       "\\eqn{w_i}{} observations equal to \\eqn{y_i}{} and the data have been\n",
       "summarized).\n",
       "\n",
       "\\code{lm} calls the lower level functions \\code{\\LinkA{lm.fit}{lm.fit}}, etc,\n",
       "see below, for the actual numerical computations.  For programming\n",
       "only, you may consider doing likewise.\n",
       "\n",
       "All of \\code{weights}, \\code{subset} and \\code{offset} are evaluated\n",
       "in the same way as variables in \\code{formula}, that is first in\n",
       "\\code{data} and then in the environment of \\code{formula}.\n",
       "\\end{Details}\n",
       "%\n",
       "\\begin{Value}\n",
       "\\code{lm} returns an object of \\code{\\LinkA{class}{class}} \\code{\"lm\"} or for\n",
       "multiple responses of class \\code{c(\"mlm\", \"lm\")}.\n",
       "\n",
       "The functions \\code{summary} and \\code{\\LinkA{anova}{anova}} are used to\n",
       "obtain and print a summary and analysis of variance table of the\n",
       "results.  The generic accessor functions \\code{coefficients},\n",
       "\\code{effects}, \\code{fitted.values} and \\code{residuals} extract\n",
       "various useful features of the value returned by \\code{lm}.\n",
       "\n",
       "An object of class \\code{\"lm\"} is a list containing at least the\n",
       "following components:\n",
       "\n",
       "\\begin{ldescription}\n",
       "\\item[\\code{coefficients}] a named vector of coefficients\n",
       "\\item[\\code{residuals}] the residuals, that is response minus fitted values.\n",
       "\\item[\\code{fitted.values}] the fitted mean values.\n",
       "\\item[\\code{rank}] the numeric rank of the fitted linear model.\n",
       "\\item[\\code{weights}] (only for weighted fits) the specified weights.\n",
       "\\item[\\code{df.residual}] the residual degrees of freedom.\n",
       "\\item[\\code{call}] the matched call.\n",
       "\\item[\\code{terms}] the \\code{\\LinkA{terms}{terms}} object used.\n",
       "\\item[\\code{contrasts}] (only where relevant) the contrasts used.\n",
       "\\item[\\code{xlevels}] (only where relevant) a record of the levels of the\n",
       "factors used in fitting.\n",
       "\\item[\\code{offset}] the offset used (missing if none were used).\n",
       "\\item[\\code{y}] if requested, the response used.\n",
       "\\item[\\code{x}] if requested, the model matrix used.\n",
       "\\item[\\code{model}] if requested (the default), the model frame used.\n",
       "\\item[\\code{na.action}] (where relevant) information returned by\n",
       "\\code{\\LinkA{model.frame}{model.frame}} on the special handling of \\code{NA}s.\n",
       "\n",
       "\\end{ldescription}\n",
       "In addition, non-null fits will have components \\code{assign},\n",
       "\\code{effects} and (unless not requested) \\code{qr} relating to the linear\n",
       "fit, for use by extractor functions such as \\code{summary} and\n",
       "\\code{\\LinkA{effects}{effects}}.\n",
       "\\end{Value}\n",
       "%\n",
       "\\begin{Section}{Using time series}\n",
       "Considerable care is needed when using \\code{lm} with time series.\n",
       "\n",
       "Unless \\code{na.action = NULL}, the time series attributes are\n",
       "stripped from the variables before the regression is done.  (This is\n",
       "necessary as omitting \\code{NA}s would invalidate the time series\n",
       "attributes, and if \\code{NA}s are omitted in the middle of the series\n",
       "the result would no longer be a regular time series.)\n",
       "\n",
       "Even if the time series attributes are retained, they are not used to\n",
       "line up series, so that the time shift of a lagged or differenced\n",
       "regressor would be ignored.  It is good practice to prepare a\n",
       "\\code{data} argument by \\code{\\LinkA{ts.intersect}{ts.intersect}(..., dframe = TRUE)},\n",
       "then apply a suitable \\code{na.action} to that data frame and call\n",
       "\\code{lm} with \\code{na.action = NULL} so that residuals and fitted\n",
       "values are time series.\n",
       "\\end{Section}\n",
       "%\n",
       "\\begin{Note}\\relax\n",
       "Offsets specified by \\code{offset} will not be included in predictions\n",
       "by \\code{\\LinkA{predict.lm}{predict.lm}}, whereas those specified by an offset term\n",
       "in the formula will be.\n",
       "\\end{Note}\n",
       "%\n",
       "\\begin{Author}\\relax\n",
       "The design was inspired by the S function of the same name described\n",
       "in Chambers (1992).  The implementation of model formula by Ross Ihaka\n",
       "was based on Wilkinson \\& Rogers (1973).\n",
       "\\end{Author}\n",
       "%\n",
       "\\begin{References}\\relax\n",
       "Chambers, J. M. (1992)\n",
       "\\emph{Linear models.}\n",
       "Chapter 4 of \\emph{Statistical Models in S}\n",
       "eds J. M. Chambers and T. J. Hastie, Wadsworth \\& Brooks/Cole.\n",
       "\n",
       "Wilkinson, G. N. and Rogers, C. E. (1973)\n",
       "Symbolic descriptions of factorial models for analysis of variance.\n",
       "\\emph{Applied Statistics}, \\bold{22}, 392--9.\n",
       "\\end{References}\n",
       "%\n",
       "\\begin{SeeAlso}\\relax\n",
       "\\code{\\LinkA{summary.lm}{summary.lm}} for summaries and \\code{\\LinkA{anova.lm}{anova.lm}} for\n",
       "the ANOVA table; \\code{\\LinkA{aov}{aov}} for a different interface.\n",
       "\n",
       "The generic functions \\code{\\LinkA{coef}{coef}}, \\code{\\LinkA{effects}{effects}},\n",
       "\\code{\\LinkA{residuals}{residuals}}, \\code{\\LinkA{fitted}{fitted}}, \\code{\\LinkA{vcov}{vcov}}.\n",
       "\n",
       "\\code{\\LinkA{predict.lm}{predict.lm}} (via \\code{\\LinkA{predict}{predict}}) for prediction,\n",
       "including confidence and prediction intervals;\n",
       "\\code{\\LinkA{confint}{confint}} for confidence intervals of \\emph{parameters}.\n",
       "\n",
       "\\code{\\LinkA{lm.influence}{lm.influence}} for regression diagnostics, and\n",
       "\\code{\\LinkA{glm}{glm}} for \\bold{generalized} linear models.\n",
       "\n",
       "The underlying low level functions,\n",
       "\\code{\\LinkA{lm.fit}{lm.fit}} for plain, and \\code{\\LinkA{lm.wfit}{lm.wfit}} for weighted\n",
       "regression fitting.\n",
       "\n",
       "More \\code{lm()} examples are available e.g., in\n",
       "\\code{\\LinkA{anscombe}{anscombe}}, \\code{\\LinkA{attitude}{attitude}}, \\code{\\LinkA{freeny}{freeny}},\n",
       "\\code{\\LinkA{LifeCycleSavings}{LifeCycleSavings}}, \\code{\\LinkA{longley}{longley}},\n",
       "\\code{\\LinkA{stackloss}{stackloss}}, \\code{\\LinkA{swiss}{swiss}}.\n",
       "\n",
       "\\code{biglm} in package \\Rhref{https://CRAN.R-project.org/package=biglm}{\\pkg{biglm}} for an alternative\n",
       "way to fit linear models to large datasets (especially those with many\n",
       "cases).\n",
       "\\end{SeeAlso}\n",
       "%\n",
       "\\begin{Examples}\n",
       "\\begin{ExampleCode}\n",
       "require(graphics)\n",
       "\n",
       "## Annette Dobson (1990) \"An Introduction to Generalized Linear Models\".\n",
       "## Page 9: Plant Weight Data.\n",
       "ctl <- c(4.17,5.58,5.18,6.11,4.50,4.61,5.17,4.53,5.33,5.14)\n",
       "trt <- c(4.81,4.17,4.41,3.59,5.87,3.83,6.03,4.89,4.32,4.69)\n",
       "group <- gl(2, 10, 20, labels = c(\"Ctl\",\"Trt\"))\n",
       "weight <- c(ctl, trt)\n",
       "lm.D9 <- lm(weight ~ group)\n",
       "lm.D90 <- lm(weight ~ group - 1) # omitting intercept\n",
       "\n",
       "anova(lm.D9)\n",
       "summary(lm.D90)\n",
       "\n",
       "opar <- par(mfrow = c(2,2), oma = c(0, 0, 1.1, 0))\n",
       "plot(lm.D9, las = 1)      # Residuals, Fitted, ...\n",
       "par(opar)\n",
       "\n",
       "### less simple examples in \"See Also\" above\n",
       "\\end{ExampleCode}\n",
       "\\end{Examples}"
      ],
      "text/plain": [
       "lm                    package:stats                    R Documentation\n",
       "\n",
       "_\bF_\bi_\bt_\bt_\bi_\bn_\bg _\bL_\bi_\bn_\be_\ba_\br _\bM_\bo_\bd_\be_\bl_\bs\n",
       "\n",
       "_\bD_\be_\bs_\bc_\br_\bi_\bp_\bt_\bi_\bo_\bn:\n",
       "\n",
       "     ‘lm’ is used to fit linear models.  It can be used to carry out\n",
       "     regression, single stratum analysis of variance and analysis of\n",
       "     covariance (although ‘aov’ may provide a more convenient interface\n",
       "     for these).\n",
       "\n",
       "_\bU_\bs_\ba_\bg_\be:\n",
       "\n",
       "     lm(formula, data, subset, weights, na.action,\n",
       "        method = \"qr\", model = TRUE, x = FALSE, y = FALSE, qr = TRUE,\n",
       "        singular.ok = TRUE, contrasts = NULL, offset, ...)\n",
       "     \n",
       "_\bA_\br_\bg_\bu_\bm_\be_\bn_\bt_\bs:\n",
       "\n",
       " formula: an object of class ‘\"formula\"’ (or one that can be coerced to\n",
       "          that class): a symbolic description of the model to be\n",
       "          fitted.  The details of model specification are given under\n",
       "          ‘Details’.\n",
       "\n",
       "    data: an optional data frame, list or environment (or object\n",
       "          coercible by ‘as.data.frame’ to a data frame) containing the\n",
       "          variables in the model.  If not found in ‘data’, the\n",
       "          variables are taken from ‘environment(formula)’, typically\n",
       "          the environment from which ‘lm’ is called.\n",
       "\n",
       "  subset: an optional vector specifying a subset of observations to be\n",
       "          used in the fitting process.\n",
       "\n",
       " weights: an optional vector of weights to be used in the fitting\n",
       "          process.  Should be ‘NULL’ or a numeric vector.  If non-NULL,\n",
       "          weighted least squares is used with weights ‘weights’ (that\n",
       "          is, minimizing ‘sum(w*e^2)’); otherwise ordinary least\n",
       "          squares is used.  See also ‘Details’,\n",
       "\n",
       "na.action: a function which indicates what should happen when the data\n",
       "          contain ‘NA’s.  The default is set by the ‘na.action’ setting\n",
       "          of ‘options’, and is ‘na.fail’ if that is unset.  The\n",
       "          ‘factory-fresh’ default is ‘na.omit’.  Another possible value\n",
       "          is ‘NULL’, no action.  Value ‘na.exclude’ can be useful.\n",
       "\n",
       "  method: the method to be used; for fitting, currently only ‘method =\n",
       "          \"qr\"’ is supported; ‘method = \"model.frame\"’ returns the\n",
       "          model frame (the same as with ‘model = TRUE’, see below).\n",
       "\n",
       "model, x, y, qr: logicals.  If ‘TRUE’ the corresponding components of\n",
       "          the fit (the model frame, the model matrix, the response, the\n",
       "          QR decomposition) are returned.\n",
       "\n",
       "singular.ok: logical. If ‘FALSE’ (the default in S but not in R) a\n",
       "          singular fit is an error.\n",
       "\n",
       "contrasts: an optional list. See the ‘contrasts.arg’ of\n",
       "          ‘model.matrix.default’.\n",
       "\n",
       "  offset: this can be used to specify an _a priori_ known component to\n",
       "          be included in the linear predictor during fitting.  This\n",
       "          should be ‘NULL’ or a numeric vector of length equal to the\n",
       "          number of cases.  One or more ‘offset’ terms can be included\n",
       "          in the formula instead or as well, and if more than one are\n",
       "          specified their sum is used.  See ‘model.offset’.\n",
       "\n",
       "     ...: additional arguments to be passed to the low level regression\n",
       "          fitting functions (see below).\n",
       "\n",
       "_\bD_\be_\bt_\ba_\bi_\bl_\bs:\n",
       "\n",
       "     Models for ‘lm’ are specified symbolically.  A typical model has\n",
       "     the form ‘response ~ terms’ where ‘response’ is the (numeric)\n",
       "     response vector and ‘terms’ is a series of terms which specifies a\n",
       "     linear predictor for ‘response’.  A terms specification of the\n",
       "     form ‘first + second’ indicates all the terms in ‘first’ together\n",
       "     with all the terms in ‘second’ with duplicates removed.  A\n",
       "     specification of the form ‘first:second’ indicates the set of\n",
       "     terms obtained by taking the interactions of all terms in ‘first’\n",
       "     with all terms in ‘second’.  The specification ‘first*second’\n",
       "     indicates the _cross_ of ‘first’ and ‘second’.  This is the same\n",
       "     as ‘first + second + first:second’.\n",
       "\n",
       "     If the formula includes an ‘offset’, this is evaluated and\n",
       "     subtracted from the response.\n",
       "\n",
       "     If ‘response’ is a matrix a linear model is fitted separately by\n",
       "     least-squares to each column of the matrix.\n",
       "\n",
       "     See ‘model.matrix’ for some further details.  The terms in the\n",
       "     formula will be re-ordered so that main effects come first,\n",
       "     followed by the interactions, all second-order, all third-order\n",
       "     and so on: to avoid this pass a ‘terms’ object as the formula (see\n",
       "     ‘aov’ and ‘demo(glm.vr)’ for an example).\n",
       "\n",
       "     A formula has an implied intercept term.  To remove this use\n",
       "     either ‘y ~ x - 1’ or ‘y ~ 0 + x’.  See ‘formula’ for more details\n",
       "     of allowed formulae.\n",
       "\n",
       "     Non-‘NULL’ ‘weights’ can be used to indicate that different\n",
       "     observations have different variances (with the values in\n",
       "     ‘weights’ being inversely proportional to the variances); or\n",
       "     equivalently, when the elements of ‘weights’ are positive integers\n",
       "     w_i, that each response y_i is the mean of w_i unit-weight\n",
       "     observations (including the case that there are w_i observations\n",
       "     equal to y_i and the data have been summarized).\n",
       "\n",
       "     ‘lm’ calls the lower level functions ‘lm.fit’, etc, see below, for\n",
       "     the actual numerical computations.  For programming only, you may\n",
       "     consider doing likewise.\n",
       "\n",
       "     All of ‘weights’, ‘subset’ and ‘offset’ are evaluated in the same\n",
       "     way as variables in ‘formula’, that is first in ‘data’ and then in\n",
       "     the environment of ‘formula’.\n",
       "\n",
       "_\bV_\ba_\bl_\bu_\be:\n",
       "\n",
       "     ‘lm’ returns an object of ‘class’ ‘\"lm\"’ or for multiple responses\n",
       "     of class ‘c(\"mlm\", \"lm\")’.\n",
       "\n",
       "     The functions ‘summary’ and ‘anova’ are used to obtain and print a\n",
       "     summary and analysis of variance table of the results.  The\n",
       "     generic accessor functions ‘coefficients’, ‘effects’,\n",
       "     ‘fitted.values’ and ‘residuals’ extract various useful features of\n",
       "     the value returned by ‘lm’.\n",
       "\n",
       "     An object of class ‘\"lm\"’ is a list containing at least the\n",
       "     following components:\n",
       "\n",
       "coefficients: a named vector of coefficients\n",
       "\n",
       "residuals: the residuals, that is response minus fitted values.\n",
       "\n",
       "fitted.values: the fitted mean values.\n",
       "\n",
       "    rank: the numeric rank of the fitted linear model.\n",
       "\n",
       " weights: (only for weighted fits) the specified weights.\n",
       "\n",
       "df.residual: the residual degrees of freedom.\n",
       "\n",
       "    call: the matched call.\n",
       "\n",
       "   terms: the ‘terms’ object used.\n",
       "\n",
       "contrasts: (only where relevant) the contrasts used.\n",
       "\n",
       " xlevels: (only where relevant) a record of the levels of the factors\n",
       "          used in fitting.\n",
       "\n",
       "  offset: the offset used (missing if none were used).\n",
       "\n",
       "       y: if requested, the response used.\n",
       "\n",
       "       x: if requested, the model matrix used.\n",
       "\n",
       "   model: if requested (the default), the model frame used.\n",
       "\n",
       "na.action: (where relevant) information returned by ‘model.frame’ on\n",
       "          the special handling of ‘NA’s.\n",
       "     In addition, non-null fits will have components ‘assign’,\n",
       "     ‘effects’ and (unless not requested) ‘qr’ relating to the linear\n",
       "     fit, for use by extractor functions such as ‘summary’ and\n",
       "     ‘effects’.\n",
       "\n",
       "_\bU_\bs_\bi_\bn_\bg _\bt_\bi_\bm_\be _\bs_\be_\br_\bi_\be_\bs:\n",
       "\n",
       "     Considerable care is needed when using ‘lm’ with time series.\n",
       "\n",
       "     Unless ‘na.action = NULL’, the time series attributes are stripped\n",
       "     from the variables before the regression is done.  (This is\n",
       "     necessary as omitting ‘NA’s would invalidate the time series\n",
       "     attributes, and if ‘NA’s are omitted in the middle of the series\n",
       "     the result would no longer be a regular time series.)\n",
       "\n",
       "     Even if the time series attributes are retained, they are not used\n",
       "     to line up series, so that the time shift of a lagged or\n",
       "     differenced regressor would be ignored.  It is good practice to\n",
       "     prepare a ‘data’ argument by ‘ts.intersect(..., dframe = TRUE)’,\n",
       "     then apply a suitable ‘na.action’ to that data frame and call ‘lm’\n",
       "     with ‘na.action = NULL’ so that residuals and fitted values are\n",
       "     time series.\n",
       "\n",
       "_\bN_\bo_\bt_\be:\n",
       "\n",
       "     Offsets specified by ‘offset’ will not be included in predictions\n",
       "     by ‘predict.lm’, whereas those specified by an offset term in the\n",
       "     formula will be.\n",
       "\n",
       "_\bA_\bu_\bt_\bh_\bo_\br(_\bs):\n",
       "\n",
       "     The design was inspired by the S function of the same name\n",
       "     described in Chambers (1992).  The implementation of model formula\n",
       "     by Ross Ihaka was based on Wilkinson & Rogers (1973).\n",
       "\n",
       "_\bR_\be_\bf_\be_\br_\be_\bn_\bc_\be_\bs:\n",
       "\n",
       "     Chambers, J. M. (1992) _Linear models._ Chapter 4 of _Statistical\n",
       "     Models in S_ eds J. M. Chambers and T. J. Hastie, Wadsworth &\n",
       "     Brooks/Cole.\n",
       "\n",
       "     Wilkinson, G. N. and Rogers, C. E. (1973) Symbolic descriptions of\n",
       "     factorial models for analysis of variance.  _Applied Statistics_,\n",
       "     *22*, 392-9.\n",
       "\n",
       "_\bS_\be_\be _\bA_\bl_\bs_\bo:\n",
       "\n",
       "     ‘summary.lm’ for summaries and ‘anova.lm’ for the ANOVA table;\n",
       "     ‘aov’ for a different interface.\n",
       "\n",
       "     The generic functions ‘coef’, ‘effects’, ‘residuals’, ‘fitted’,\n",
       "     ‘vcov’.\n",
       "\n",
       "     ‘predict.lm’ (via ‘predict’) for prediction, including confidence\n",
       "     and prediction intervals; ‘confint’ for confidence intervals of\n",
       "     _parameters_.\n",
       "\n",
       "     ‘lm.influence’ for regression diagnostics, and ‘glm’ for\n",
       "     *generalized* linear models.\n",
       "\n",
       "     The underlying low level functions, ‘lm.fit’ for plain, and\n",
       "     ‘lm.wfit’ for weighted regression fitting.\n",
       "\n",
       "     More ‘lm()’ examples are available e.g., in ‘anscombe’,\n",
       "     ‘attitude’, ‘freeny’, ‘LifeCycleSavings’, ‘longley’, ‘stackloss’,\n",
       "     ‘swiss’.\n",
       "\n",
       "     ‘biglm’ in package ‘biglm’ for an alternative way to fit linear\n",
       "     models to large datasets (especially those with many cases).\n",
       "\n",
       "_\bE_\bx_\ba_\bm_\bp_\bl_\be_\bs:\n",
       "\n",
       "     require(graphics)\n",
       "     \n",
       "     ## Annette Dobson (1990) \"An Introduction to Generalized Linear Models\".\n",
       "     ## Page 9: Plant Weight Data.\n",
       "     ctl <- c(4.17,5.58,5.18,6.11,4.50,4.61,5.17,4.53,5.33,5.14)\n",
       "     trt <- c(4.81,4.17,4.41,3.59,5.87,3.83,6.03,4.89,4.32,4.69)\n",
       "     group <- gl(2, 10, 20, labels = c(\"Ctl\",\"Trt\"))\n",
       "     weight <- c(ctl, trt)\n",
       "     lm.D9 <- lm(weight ~ group)\n",
       "     lm.D90 <- lm(weight ~ group - 1) # omitting intercept\n",
       "     \n",
       "     anova(lm.D9)\n",
       "     summary(lm.D90)\n",
       "     \n",
       "     opar <- par(mfrow = c(2,2), oma = c(0, 0, 1.1, 0))\n",
       "     plot(lm.D9, las = 1)      # Residuals, Fitted, ...\n",
       "     par(opar)\n",
       "     \n",
       "     ### less simple examples in \"See Also\" above\n",
       "     "
      ]
     },
     "metadata": {},
     "output_type": "display_data"
    }
   ],
   "source": [
    "# ?foo\n",
    "?lm"
   ]
  },
  {
   "cell_type": "markdown",
   "metadata": {},
   "source": [
    "* If you have any question, google 'how do I...with R'.\n",
    "+ huge community\n",
    "+ already asked by somebody else\n",
    "* Very useful and helpful Q&A website:  http://stackexchange.com/Cheat\n",
    "* Sheet for Base R https://www.rstudio.com/resources/cheatsheets/\n",
    "* R Reference Card https://cran.r-project.org/doc/contrib/Baggott-refcard-v2.pdf\n",
    "* **Learning by doing** is particularly true for programming"
   ]
  },
  {
   "cell_type": "markdown",
   "metadata": {},
   "source": [
    "## 5 - Data Import and Export"
   ]
  },
  {
   "cell_type": "markdown",
   "metadata": {},
   "source": [
    "How do we get our data into R?"
   ]
  },
  {
   "cell_type": "markdown",
   "metadata": {},
   "source": [
    "### Loading data from R (for training)"
   ]
  },
  {
   "cell_type": "markdown",
   "metadata": {},
   "source": [
    "There are several packages containing claims data for Non-Life insurance."
   ]
  },
  {
   "cell_type": "code",
   "execution_count": 195,
   "metadata": {},
   "outputs": [],
   "source": [
    "library(MASS)\n",
    "#library(CASdatasets)\n",
    "#library(insuranceData)"
   ]
  },
  {
   "cell_type": "markdown",
   "metadata": {},
   "source": [
    "For example, laod the data \"Insurance\"\" from the MASS package:"
   ]
  },
  {
   "cell_type": "code",
   "execution_count": 207,
   "metadata": {},
   "outputs": [
    {
     "data": {
      "text/html": [
       "<table>\n",
       "<thead><tr><th scope=col>District</th><th scope=col>Group</th><th scope=col>Age</th><th scope=col>Holders</th><th scope=col>Claims</th></tr></thead>\n",
       "<tbody>\n",
       "\t<tr><td>1                                                </td><td><span style=white-space:pre-wrap>&lt;1l   </span></td><td><span style=white-space:pre-wrap>&lt;25  </span> </td><td> 197                                             </td><td> 38                                              </td></tr>\n",
       "\t<tr><td>1                                                </td><td><span style=white-space:pre-wrap>&lt;1l   </span></td><td>25-29                                            </td><td> 264                                             </td><td> 35                                              </td></tr>\n",
       "\t<tr><td>1                                                </td><td><span style=white-space:pre-wrap>&lt;1l   </span></td><td>30-35                                            </td><td> 246                                             </td><td> 20                                              </td></tr>\n",
       "\t<tr><td>1                                                </td><td><span style=white-space:pre-wrap>&lt;1l   </span></td><td><span style=white-space:pre-wrap>&gt;35  </span> </td><td>1680                                             </td><td>156                                              </td></tr>\n",
       "\t<tr><td>1                                               </td><td>1-1.5l                                          </td><td><span style=white-space:pre-wrap>&lt;25  </span></td><td> 284                                            </td><td> 63                                             </td></tr>\n",
       "\t<tr><td>1     </td><td>1-1.5l</td><td>25-29 </td><td> 536  </td><td> 84   </td></tr>\n",
       "</tbody>\n",
       "</table>\n"
      ],
      "text/latex": [
       "\\begin{tabular}{r|lllll}\n",
       " District & Group & Age & Holders & Claims\\\\\n",
       "\\hline\n",
       "\t 1      & <1l    & <25    &  197   &  38   \\\\\n",
       "\t 1      & <1l    & 25-29  &  264   &  35   \\\\\n",
       "\t 1      & <1l    & 30-35  &  246   &  20   \\\\\n",
       "\t 1      & <1l    & >35    & 1680   & 156   \\\\\n",
       "\t 1      & 1-1.5l & <25    &  284   &  63   \\\\\n",
       "\t 1      & 1-1.5l & 25-29  &  536   &  84   \\\\\n",
       "\\end{tabular}\n"
      ],
      "text/markdown": [
       "\n",
       "| District | Group | Age | Holders | Claims |\n",
       "|---|---|---|---|---|\n",
       "| 1      | <1l    | <25    |  197   |  38    |\n",
       "| 1      | <1l    | 25-29  |  264   |  35    |\n",
       "| 1      | <1l    | 30-35  |  246   |  20    |\n",
       "| 1      | <1l    | >35    | 1680   | 156    |\n",
       "| 1      | 1-1.5l | <25    |  284   |  63    |\n",
       "| 1      | 1-1.5l | 25-29  |  536   |  84    |\n",
       "\n"
      ],
      "text/plain": [
       "  District Group  Age   Holders Claims\n",
       "1 1        <1l    <25    197     38   \n",
       "2 1        <1l    25-29  264     35   \n",
       "3 1        <1l    30-35  246     20   \n",
       "4 1        <1l    >35   1680    156   \n",
       "5 1        1-1.5l <25    284     63   \n",
       "6 1        1-1.5l 25-29  536     84   "
      ]
     },
     "metadata": {},
     "output_type": "display_data"
    },
    {
     "data": {
      "text/html": [
       "\n",
       "<table width=\"100%\" summary=\"page for Insurance {MASS}\"><tr><td>Insurance {MASS}</td><td style=\"text-align: right;\">R Documentation</td></tr></table>\n",
       "\n",
       "<h2>\n",
       "Numbers of Car Insurance claims\n",
       "</h2>\n",
       "\n",
       "<h3>Description</h3>\n",
       "\n",
       "<p>The data given in data frame <code>Insurance</code> consist of the\n",
       "numbers of policyholders of an insurance company who were\n",
       "exposed to risk, and the numbers of car insurance claims made by\n",
       "those policyholders in the third quarter of 1973.\n",
       "</p>\n",
       "\n",
       "\n",
       "<h3>Usage</h3>\n",
       "\n",
       "<pre>\n",
       "Insurance\n",
       "</pre>\n",
       "\n",
       "\n",
       "<h3>Format</h3>\n",
       "\n",
       "<p>This data frame contains the following columns:\n",
       "</p>\n",
       "\n",
       "<dl>\n",
       "<dt><code>District</code></dt><dd>\n",
       "<p>factor: district of residence of policyholder (1 to 4): 4 is major cities.\n",
       "</p>\n",
       "</dd>\n",
       "<dt><code>Group</code></dt><dd>\n",
       "<p>an ordered factor: group of car with levels  &lt;1 litre, 1&ndash;1.5 litre,\n",
       "1.5&ndash;2 litre, &gt;2 litre.\n",
       "</p>\n",
       "</dd>\n",
       "<dt><code>Age</code></dt><dd>\n",
       "<p>an ordered factor: the age of the insured in 4 groups labelled\n",
       "&lt;25, 25&ndash;29, 30&ndash;35, &gt;35.\n",
       "</p>\n",
       "</dd>\n",
       "<dt><code>Holders</code></dt><dd>\n",
       "<p>numbers of policyholders.\n",
       "</p>\n",
       "</dd>\n",
       "<dt><code>Claims</code></dt><dd>\n",
       "<p>numbers of claims\n",
       "</p>\n",
       "</dd>\n",
       "</dl>\n",
       "\n",
       "\n",
       "\n",
       "<h3>Source</h3>\n",
       "\n",
       "<p>L. A. Baxter, S. M. Coutts and G. A. F. Ross (1980) Applications of\n",
       "linear models in motor insurance.\n",
       "<em>Proceedings of the 21st International Congress of Actuaries, Zurich</em>\n",
       "pp. 11&ndash;29.\n",
       "</p>\n",
       "<p>M. Aitkin, D. Anderson, B. Francis and J. Hinde (1989)\n",
       "<em>Statistical Modelling in GLIM.</em>\n",
       "Oxford University Press.\n",
       "</p>\n",
       "\n",
       "\n",
       "<h3>References</h3>\n",
       "\n",
       "<p>Venables, W. N. and Ripley, B. D. (1999)\n",
       "<em>Modern Applied Statistics with S-PLUS.</em> Third\n",
       "Edition. Springer.\n",
       "</p>\n",
       "\n",
       "\n",
       "<h3>Examples</h3>\n",
       "\n",
       "<pre>\n",
       "## main-effects fit as Poisson GLM with offset\n",
       "glm(Claims ~ District + Group + Age + offset(log(Holders)),\n",
       "    data = Insurance, family = poisson)\n",
       "\n",
       "# same via loglm\n",
       "loglm(Claims ~ District + Group + Age + offset(log(Holders)),\n",
       "      data = Insurance)\n",
       "</pre>\n",
       "\n",
       "<hr /><div style=\"text-align: center;\">[Package <em>MASS</em> version 7.3-50 ]</div>"
      ],
      "text/latex": [
       "\\inputencoding{utf8}\n",
       "\\HeaderA{Insurance}{Numbers of Car Insurance claims}{Insurance}\n",
       "\\keyword{datasets}{Insurance}\n",
       "%\n",
       "\\begin{Description}\\relax\n",
       "The data given in data frame \\code{Insurance} consist of the\n",
       "numbers of policyholders of an insurance company who were\n",
       "exposed to risk, and the numbers of car insurance claims made by\n",
       "those policyholders in the third quarter of 1973.\n",
       "\\end{Description}\n",
       "%\n",
       "\\begin{Usage}\n",
       "\\begin{verbatim}\n",
       "Insurance\n",
       "\\end{verbatim}\n",
       "\\end{Usage}\n",
       "%\n",
       "\\begin{Format}\n",
       "This data frame contains the following columns:\n",
       "\\begin{description}\n",
       "\n",
       "\\item[\\code{District}] \n",
       "factor: district of residence of policyholder (1 to 4): 4 is major cities.\n",
       "\n",
       "\\item[\\code{Group}] \n",
       "an ordered factor: group of car with levels  <1 litre, 1--1.5 litre,\n",
       "1.5--2 litre, >2 litre.\n",
       "\n",
       "\\item[\\code{Age}] \n",
       "an ordered factor: the age of the insured in 4 groups labelled\n",
       "<25, 25--29, 30--35, >35.\n",
       "\n",
       "\\item[\\code{Holders}] \n",
       "numbers of policyholders.\n",
       "\n",
       "\\item[\\code{Claims}] \n",
       "numbers of claims\n",
       "\n",
       "\n",
       "\\end{description}\n",
       "\n",
       "\\end{Format}\n",
       "%\n",
       "\\begin{Source}\\relax\n",
       "L. A. Baxter, S. M. Coutts and G. A. F. Ross (1980) Applications of\n",
       "linear models in motor insurance.\n",
       "\\emph{Proceedings of the 21st International Congress of Actuaries, Zurich}\n",
       "pp. 11--29.\n",
       "\n",
       "M. Aitkin, D. Anderson, B. Francis and J. Hinde (1989)\n",
       "\\emph{Statistical Modelling in GLIM.}\n",
       "Oxford University Press.\n",
       "\\end{Source}\n",
       "%\n",
       "\\begin{References}\\relax\n",
       "Venables, W. N. and Ripley, B. D. (1999)\n",
       "\\emph{Modern Applied Statistics with S-PLUS.} Third\n",
       "Edition. Springer.\n",
       "\\end{References}\n",
       "%\n",
       "\\begin{Examples}\n",
       "\\begin{ExampleCode}\n",
       "## main-effects fit as Poisson GLM with offset\n",
       "glm(Claims ~ District + Group + Age + offset(log(Holders)),\n",
       "    data = Insurance, family = poisson)\n",
       "\n",
       "# same via loglm\n",
       "loglm(Claims ~ District + Group + Age + offset(log(Holders)),\n",
       "      data = Insurance)\n",
       "\\end{ExampleCode}\n",
       "\\end{Examples}"
      ],
      "text/plain": [
       "Insurance                 package:MASS                 R Documentation\n",
       "\n",
       "_\bN_\bu_\bm_\bb_\be_\br_\bs _\bo_\bf _\bC_\ba_\br _\bI_\bn_\bs_\bu_\br_\ba_\bn_\bc_\be _\bc_\bl_\ba_\bi_\bm_\bs\n",
       "\n",
       "_\bD_\be_\bs_\bc_\br_\bi_\bp_\bt_\bi_\bo_\bn:\n",
       "\n",
       "     The data given in data frame ‘Insurance’ consist of the numbers of\n",
       "     policyholders of an insurance company who were exposed to risk,\n",
       "     and the numbers of car insurance claims made by those\n",
       "     policyholders in the third quarter of 1973.\n",
       "\n",
       "_\bU_\bs_\ba_\bg_\be:\n",
       "\n",
       "     Insurance\n",
       "     \n",
       "_\bF_\bo_\br_\bm_\ba_\bt:\n",
       "\n",
       "     This data frame contains the following columns:\n",
       "\n",
       "     ‘District’ factor: district of residence of policyholder (1 to 4):\n",
       "          4 is major cities.\n",
       "\n",
       "     ‘Group’ an ordered factor: group of car with levels <1 litre,\n",
       "          1-1.5 litre, 1.5-2 litre, >2 litre.\n",
       "\n",
       "     ‘Age’ an ordered factor: the age of the insured in 4 groups\n",
       "          labelled <25, 25-29, 30-35, >35.\n",
       "\n",
       "     ‘Holders’ numbers of policyholders.\n",
       "\n",
       "     ‘Claims’ numbers of claims\n",
       "\n",
       "_\bS_\bo_\bu_\br_\bc_\be:\n",
       "\n",
       "     L. A. Baxter, S. M. Coutts and G. A. F. Ross (1980) Applications\n",
       "     of linear models in motor insurance.  _Proceedings of the 21st\n",
       "     International Congress of Actuaries, Zurich_ pp. 11-29.\n",
       "\n",
       "     M. Aitkin, D. Anderson, B. Francis and J. Hinde (1989)\n",
       "     _Statistical Modelling in GLIM._ Oxford University Press.\n",
       "\n",
       "_\bR_\be_\bf_\be_\br_\be_\bn_\bc_\be_\bs:\n",
       "\n",
       "     Venables, W. N. and Ripley, B. D. (1999) _Modern Applied\n",
       "     Statistics with S-PLUS._ Third Edition. Springer.\n",
       "\n",
       "_\bE_\bx_\ba_\bm_\bp_\bl_\be_\bs:\n",
       "\n",
       "     ## main-effects fit as Poisson GLM with offset\n",
       "     glm(Claims ~ District + Group + Age + offset(log(Holders)),\n",
       "         data = Insurance, family = poisson)\n",
       "     \n",
       "     # same via loglm\n",
       "     loglm(Claims ~ District + Group + Age + offset(log(Holders)),\n",
       "           data = Insurance)\n",
       "     "
      ]
     },
     "metadata": {},
     "output_type": "display_data"
    }
   ],
   "source": [
    "data(\"Insurance\")\n",
    "?Insurance\n",
    "head(Insurance)"
   ]
  },
  {
   "cell_type": "markdown",
   "metadata": {},
   "source": [
    "### Loading data from file"
   ]
  },
  {
   "cell_type": "markdown",
   "metadata": {},
   "source": [
    "Often, you have your data as a .csv file available. Chek *?read.table* for more information about this function."
   ]
  },
  {
   "cell_type": "code",
   "execution_count": 236,
   "metadata": {},
   "outputs": [],
   "source": [
    "data_path <- \"/home/s3m3wx/SAA_Training_2019/\"\n",
    "df <- read.table(paste(data_path,\"dataCar.csv\",sep=\"\"), header = TRUE,sep=\",\")\n",
    "# ?read.csv and many other specific loading packages available"
   ]
  },
  {
   "cell_type": "markdown",
   "metadata": {},
   "source": [
    "Some useful functions to correctly load/save the data."
   ]
  },
  {
   "cell_type": "markdown",
   "metadata": {},
   "source": [
    "Let's set the working directory - the folder from which to operate (e.g.,save and load from).  Use:"
   ]
  },
  {
   "cell_type": "code",
   "execution_count": 254,
   "metadata": {},
   "outputs": [
    {
     "data": {
      "text/html": [
       "'/home/s3m3wx/SAA_Training_2019'"
      ],
      "text/latex": [
       "'/home/s3m3wx/SAA\\_Training\\_2019'"
      ],
      "text/markdown": [
       "'/home/s3m3wx/SAA_Training_2019'"
      ],
      "text/plain": [
       "[1] \"/home/s3m3wx/SAA_Training_2019\""
      ]
     },
     "metadata": {},
     "output_type": "display_data"
    }
   ],
   "source": [
    "getwd()  ## print the current working directory\n",
    "#setwd(\"yourpath\")"
   ]
  },
  {
   "cell_type": "markdown",
   "metadata": {},
   "source": [
    "Or alternatively in RStudio use 'Session -> Set Working Directory -> Choose Directory...'"
   ]
  },
  {
   "cell_type": "markdown",
   "metadata": {},
   "source": [
    "Importing data in R is easy. Different ways depending on the format (csv, txt, xlsx, etc.).\n",
    "Alternative:  use the 'Import Dataset' tool in RStudio (upper-rightpanel)"
   ]
  },
  {
   "cell_type": "code",
   "execution_count": 275,
   "metadata": {},
   "outputs": [
    {
     "name": "stdout",
     "output_type": "stream",
     "text": [
      "'data.frame':\t67856 obs. of  12 variables:\n",
      " $ X        : int  1 2 3 4 5 6 7 8 9 10 ...\n",
      " $ veh_value: num  1.06 1.03 3.26 4.14 0.72 2.01 1.6 1.47 0.52 0.38 ...\n",
      " $ exposure : num  0.304 0.649 0.569 0.318 0.649 ...\n",
      " $ clm      : int  0 0 0 0 0 0 0 0 0 0 ...\n",
      " $ numclaims: int  0 0 0 0 0 0 0 0 0 0 ...\n",
      " $ claimcst0: num  0 0 0 0 0 0 0 0 0 0 ...\n",
      " $ veh_body : Factor w/ 13 levels \"BUS\",\"CONVT\",..: 4 4 13 11 4 5 8 4 4 4 ...\n",
      " $ veh_age  : int  3 2 2 2 4 3 3 2 4 4 ...\n",
      " $ gender   : Factor w/ 2 levels \"F\",\"M\": 1 1 1 1 1 2 2 2 1 1 ...\n",
      " $ area     : Factor w/ 6 levels \"A\",\"B\",\"C\",\"D\",..: 3 1 5 4 3 3 1 2 1 2 ...\n",
      " $ agecat   : int  2 4 2 2 2 4 4 6 3 4 ...\n",
      " $ X_OBSTAT_: Factor w/ 1 level \"01101    0    0    0\": 1 1 1 1 1 1 1 1 1 1 ...\n"
     ]
    }
   ],
   "source": [
    "data_path <- \"/home/s3m3wx/SAA_Training_2019/\"\n",
    "df <- read.table(paste(data_path,\"dataCar.csv\",sep=\"\"), header = TRUE,sep=\",\")\n",
    "str(df)"
   ]
  },
  {
   "cell_type": "markdown",
   "metadata": {},
   "source": [
    "To save or write data to a file:"
   ]
  },
  {
   "cell_type": "code",
   "execution_count": 287,
   "metadata": {},
   "outputs": [],
   "source": [
    "#write.table(df, file = \"xy.txt\", sep = \" \")"
   ]
  },
  {
   "cell_type": "markdown",
   "metadata": {},
   "source": [
    "where x is the data object to be stored an xy.txt."
   ]
  },
  {
   "cell_type": "markdown",
   "metadata": {},
   "source": [
    "Excel-files:  Use CSV\n",
    "* > write.csv(...)\n",
    "* > write.csv2(...)"
   ]
  },
  {
   "cell_type": "markdown",
   "metadata": {},
   "source": [
    "## 6 - R Objects"
   ]
  },
  {
   "cell_type": "markdown",
   "metadata": {},
   "source": [
    "Everything in R is an object, for example\n",
    "* data frame:  most essential data structure in R"
   ]
  },
  {
   "cell_type": "code",
   "execution_count": 327,
   "metadata": {},
   "outputs": [
    {
     "name": "stdout",
     "output_type": "stream",
     "text": [
      "'data.frame':\t64 obs. of  5 variables:\n",
      " $ District: Factor w/ 4 levels \"1\",\"2\",\"3\",\"4\": 1 1 1 1 1 1 1 1 1 1 ...\n",
      " $ Group   : Ord.factor w/ 4 levels \"<1l\"<\"1-1.5l\"<..: 1 1 1 1 2 2 2 2 3 3 ...\n",
      " $ Age     : Ord.factor w/ 4 levels \"<25\"<\"25-29\"<..: 1 2 3 4 1 2 3 4 1 2 ...\n",
      " $ Holders : int  197 264 246 1680 284 536 696 3582 133 286 ...\n",
      " $ Claims  : int  38 35 20 156 63 84 89 400 19 52 ...\n"
     ]
    }
   ],
   "source": [
    "str(Insurance)"
   ]
  },
  {
   "cell_type": "markdown",
   "metadata": {},
   "source": [
    "* vector, e.g.  a column of the data set Insurance"
   ]
  },
  {
   "cell_type": "code",
   "execution_count": 339,
   "metadata": {},
   "outputs": [
    {
     "name": "stdout",
     "output_type": "stream",
     "text": [
      " Ord.factor w/ 4 levels \"<25\"<\"25-29\"<..: 1 2 3 4 1 2 3 4 1 2 ...\n"
     ]
    }
   ],
   "source": [
    "Age <- Insurance$Age\n",
    "str(Age)"
   ]
  },
  {
   "cell_type": "markdown",
   "metadata": {},
   "source": [
    "Goal is to look at or use a part of your object. To access only part of an object, use[ ]:\n",
    "* for vectors: myvector[x]\n",
    "* for two-dimensional objects, e.g.  data frames or matrices: mydata.frame[x, y]\n",
    "Specify the indices by a vector (e.g.c(1, 2, 6)) and separate the indices of different dimensions by commas.\n",
    "\n",
    "Let us play around with the indexing of a data frame:  two-dimensionalobject!"
   ]
  },
  {
   "cell_type": "code",
   "execution_count": 351,
   "metadata": {},
   "outputs": [
    {
     "data": {
      "text/html": [
       "<table>\n",
       "<thead><tr><th scope=col>District</th><th scope=col>Group</th><th scope=col>Age</th><th scope=col>Holders</th><th scope=col>Claims</th></tr></thead>\n",
       "<tbody>\n",
       "\t<tr><td>1                                                </td><td><span style=white-space:pre-wrap>&lt;1l   </span></td><td><span style=white-space:pre-wrap>&lt;25  </span> </td><td> 197                                             </td><td> 38                                              </td></tr>\n",
       "\t<tr><td>1                                                </td><td><span style=white-space:pre-wrap>&lt;1l   </span></td><td>25-29                                            </td><td> 264                                             </td><td> 35                                              </td></tr>\n",
       "\t<tr><td>1                                                </td><td><span style=white-space:pre-wrap>&lt;1l   </span></td><td>30-35                                            </td><td> 246                                             </td><td> 20                                              </td></tr>\n",
       "\t<tr><td>1                                                </td><td><span style=white-space:pre-wrap>&lt;1l   </span></td><td><span style=white-space:pre-wrap>&gt;35  </span> </td><td>1680                                             </td><td>156                                              </td></tr>\n",
       "\t<tr><td>1                                               </td><td>1-1.5l                                          </td><td><span style=white-space:pre-wrap>&lt;25  </span></td><td> 284                                            </td><td> 63                                             </td></tr>\n",
       "\t<tr><td>1     </td><td>1-1.5l</td><td>25-29 </td><td> 536  </td><td> 84   </td></tr>\n",
       "\t<tr><td>1     </td><td>1-1.5l</td><td>30-35 </td><td> 696  </td><td> 89   </td></tr>\n",
       "\t<tr><td>1                                               </td><td>1-1.5l                                          </td><td><span style=white-space:pre-wrap>&gt;35  </span></td><td>3582                                            </td><td>400                                             </td></tr>\n",
       "\t<tr><td>1                                               </td><td>1.5-2l                                          </td><td><span style=white-space:pre-wrap>&lt;25  </span></td><td> 133                                            </td><td> 19                                             </td></tr>\n",
       "\t<tr><td>1     </td><td>1.5-2l</td><td>25-29 </td><td> 286  </td><td> 52   </td></tr>\n",
       "\t<tr><td>1     </td><td>1.5-2l</td><td>30-35 </td><td> 355  </td><td> 74   </td></tr>\n",
       "\t<tr><td>1                                               </td><td>1.5-2l                                          </td><td><span style=white-space:pre-wrap>&gt;35  </span></td><td>1640                                            </td><td>233                                             </td></tr>\n",
       "\t<tr><td>1                                                </td><td><span style=white-space:pre-wrap>&gt;2l   </span></td><td><span style=white-space:pre-wrap>&lt;25  </span> </td><td><span style=white-space:pre-wrap>  24</span>     </td><td><span style=white-space:pre-wrap>  4</span>      </td></tr>\n",
       "\t<tr><td>1                                                </td><td><span style=white-space:pre-wrap>&gt;2l   </span></td><td>25-29                                            </td><td><span style=white-space:pre-wrap>  71</span>     </td><td> 18                                              </td></tr>\n",
       "\t<tr><td>1                                                </td><td><span style=white-space:pre-wrap>&gt;2l   </span></td><td>30-35                                            </td><td><span style=white-space:pre-wrap>  99</span>     </td><td> 19                                              </td></tr>\n",
       "\t<tr><td>1                                                </td><td><span style=white-space:pre-wrap>&gt;2l   </span></td><td><span style=white-space:pre-wrap>&gt;35  </span> </td><td> 452                                             </td><td> 77                                              </td></tr>\n",
       "\t<tr><td>2                                                </td><td><span style=white-space:pre-wrap>&lt;1l   </span></td><td><span style=white-space:pre-wrap>&lt;25  </span> </td><td><span style=white-space:pre-wrap>  85</span>     </td><td> 22                                              </td></tr>\n",
       "\t<tr><td>2                                                </td><td><span style=white-space:pre-wrap>&lt;1l   </span></td><td>25-29                                            </td><td> 139                                             </td><td> 19                                              </td></tr>\n",
       "\t<tr><td>2                                                </td><td><span style=white-space:pre-wrap>&lt;1l   </span></td><td>30-35                                            </td><td> 151                                             </td><td> 22                                              </td></tr>\n",
       "\t<tr><td>2                                                </td><td><span style=white-space:pre-wrap>&lt;1l   </span></td><td><span style=white-space:pre-wrap>&gt;35  </span> </td><td> 931                                             </td><td> 87                                              </td></tr>\n",
       "\t<tr><td>2                                               </td><td>1-1.5l                                          </td><td><span style=white-space:pre-wrap>&lt;25  </span></td><td> 149                                            </td><td> 25                                             </td></tr>\n",
       "\t<tr><td>2     </td><td>1-1.5l</td><td>25-29 </td><td> 313  </td><td> 51   </td></tr>\n",
       "\t<tr><td>2     </td><td>1-1.5l</td><td>30-35 </td><td> 419  </td><td> 49   </td></tr>\n",
       "\t<tr><td>2                                               </td><td>1-1.5l                                          </td><td><span style=white-space:pre-wrap>&gt;35  </span></td><td>2443                                            </td><td>290                                             </td></tr>\n",
       "\t<tr><td>2                                               </td><td>1.5-2l                                          </td><td><span style=white-space:pre-wrap>&lt;25  </span></td><td><span style=white-space:pre-wrap>  66</span>    </td><td> 14                                             </td></tr>\n",
       "\t<tr><td>2     </td><td>1.5-2l</td><td>25-29 </td><td> 175  </td><td> 46   </td></tr>\n",
       "\t<tr><td>2     </td><td>1.5-2l</td><td>30-35 </td><td> 221  </td><td> 39   </td></tr>\n",
       "\t<tr><td>2                                               </td><td>1.5-2l                                          </td><td><span style=white-space:pre-wrap>&gt;35  </span></td><td>1110                                            </td><td>143                                             </td></tr>\n",
       "\t<tr><td>2                                                </td><td><span style=white-space:pre-wrap>&gt;2l   </span></td><td><span style=white-space:pre-wrap>&lt;25  </span> </td><td><span style=white-space:pre-wrap>   9</span>     </td><td><span style=white-space:pre-wrap>  4</span>      </td></tr>\n",
       "\t<tr><td>2                                                </td><td><span style=white-space:pre-wrap>&gt;2l   </span></td><td>25-29                                            </td><td><span style=white-space:pre-wrap>  48</span>     </td><td> 15                                              </td></tr>\n",
       "\t<tr><td>⋮</td><td>⋮</td><td>⋮</td><td>⋮</td><td>⋮</td></tr>\n",
       "\t<tr><td>3                                                </td><td><span style=white-space:pre-wrap>&lt;1l   </span></td><td>30-35                                            </td><td><span style=white-space:pre-wrap>  89</span>     </td><td> 10                                              </td></tr>\n",
       "\t<tr><td>3                                                </td><td><span style=white-space:pre-wrap>&lt;1l   </span></td><td><span style=white-space:pre-wrap>&gt;35  </span> </td><td> 648                                             </td><td> 67                                              </td></tr>\n",
       "\t<tr><td>3                                               </td><td>1-1.5l                                          </td><td><span style=white-space:pre-wrap>&lt;25  </span></td><td><span style=white-space:pre-wrap>  53</span>    </td><td> 10                                             </td></tr>\n",
       "\t<tr><td>3     </td><td>1-1.5l</td><td>25-29 </td><td> 155  </td><td> 24   </td></tr>\n",
       "\t<tr><td>3     </td><td>1-1.5l</td><td>30-35 </td><td> 240  </td><td> 37   </td></tr>\n",
       "\t<tr><td>3                                               </td><td>1-1.5l                                          </td><td><span style=white-space:pre-wrap>&gt;35  </span></td><td>1635                                            </td><td>187                                             </td></tr>\n",
       "\t<tr><td>3                                               </td><td>1.5-2l                                          </td><td><span style=white-space:pre-wrap>&lt;25  </span></td><td><span style=white-space:pre-wrap>  24</span>    </td><td><span style=white-space:pre-wrap>  8</span>     </td></tr>\n",
       "\t<tr><td>3     </td><td>1.5-2l</td><td>25-29 </td><td>  78  </td><td> 19   </td></tr>\n",
       "\t<tr><td>3     </td><td>1.5-2l</td><td>30-35 </td><td> 121  </td><td> 24   </td></tr>\n",
       "\t<tr><td>3                                               </td><td>1.5-2l                                          </td><td><span style=white-space:pre-wrap>&gt;35  </span></td><td> 692                                            </td><td>101                                             </td></tr>\n",
       "\t<tr><td>3                                                </td><td><span style=white-space:pre-wrap>&gt;2l   </span></td><td><span style=white-space:pre-wrap>&lt;25  </span> </td><td><span style=white-space:pre-wrap>   7</span>     </td><td><span style=white-space:pre-wrap>  3</span>      </td></tr>\n",
       "\t<tr><td>3                                                </td><td><span style=white-space:pre-wrap>&gt;2l   </span></td><td>25-29                                            </td><td><span style=white-space:pre-wrap>  29</span>     </td><td><span style=white-space:pre-wrap>  2</span>      </td></tr>\n",
       "\t<tr><td>3                                                </td><td><span style=white-space:pre-wrap>&gt;2l   </span></td><td>30-35                                            </td><td><span style=white-space:pre-wrap>  43</span>     </td><td><span style=white-space:pre-wrap>  8</span>      </td></tr>\n",
       "\t<tr><td>3                                                </td><td><span style=white-space:pre-wrap>&gt;2l   </span></td><td><span style=white-space:pre-wrap>&gt;35  </span> </td><td> 245                                             </td><td> 37                                              </td></tr>\n",
       "\t<tr><td>4                                                </td><td><span style=white-space:pre-wrap>&lt;1l   </span></td><td><span style=white-space:pre-wrap>&lt;25  </span> </td><td><span style=white-space:pre-wrap>  20</span>     </td><td><span style=white-space:pre-wrap>  2</span>      </td></tr>\n",
       "\t<tr><td>4                                                </td><td><span style=white-space:pre-wrap>&lt;1l   </span></td><td>25-29                                            </td><td><span style=white-space:pre-wrap>  33</span>     </td><td><span style=white-space:pre-wrap>  5</span>      </td></tr>\n",
       "\t<tr><td>4                                                </td><td><span style=white-space:pre-wrap>&lt;1l   </span></td><td>30-35                                            </td><td><span style=white-space:pre-wrap>  40</span>     </td><td><span style=white-space:pre-wrap>  4</span>      </td></tr>\n",
       "\t<tr><td>4                                                </td><td><span style=white-space:pre-wrap>&lt;1l   </span></td><td><span style=white-space:pre-wrap>&gt;35  </span> </td><td> 316                                             </td><td> 36                                              </td></tr>\n",
       "\t<tr><td>4                                               </td><td>1-1.5l                                          </td><td><span style=white-space:pre-wrap>&lt;25  </span></td><td><span style=white-space:pre-wrap>  31</span>    </td><td><span style=white-space:pre-wrap>  7</span>     </td></tr>\n",
       "\t<tr><td>4     </td><td>1-1.5l</td><td>25-29 </td><td>  81  </td><td> 10   </td></tr>\n",
       "\t<tr><td>4     </td><td>1-1.5l</td><td>30-35 </td><td> 122  </td><td> 22   </td></tr>\n",
       "\t<tr><td>4                                               </td><td>1-1.5l                                          </td><td><span style=white-space:pre-wrap>&gt;35  </span></td><td> 724                                            </td><td>102                                             </td></tr>\n",
       "\t<tr><td>4                                               </td><td>1.5-2l                                          </td><td><span style=white-space:pre-wrap>&lt;25  </span></td><td><span style=white-space:pre-wrap>  18</span>    </td><td><span style=white-space:pre-wrap>  5</span>     </td></tr>\n",
       "\t<tr><td>4     </td><td>1.5-2l</td><td>25-29 </td><td>  39  </td><td>  7   </td></tr>\n",
       "\t<tr><td>4     </td><td>1.5-2l</td><td>30-35 </td><td>  68  </td><td> 16   </td></tr>\n",
       "\t<tr><td>4                                               </td><td>1.5-2l                                          </td><td><span style=white-space:pre-wrap>&gt;35  </span></td><td> 344                                            </td><td> 63                                             </td></tr>\n",
       "\t<tr><td>4                                                </td><td><span style=white-space:pre-wrap>&gt;2l   </span></td><td><span style=white-space:pre-wrap>&lt;25  </span> </td><td><span style=white-space:pre-wrap>   3</span>     </td><td><span style=white-space:pre-wrap>  0</span>      </td></tr>\n",
       "\t<tr><td>4                                                </td><td><span style=white-space:pre-wrap>&gt;2l   </span></td><td>25-29                                            </td><td><span style=white-space:pre-wrap>  16</span>     </td><td><span style=white-space:pre-wrap>  6</span>      </td></tr>\n",
       "\t<tr><td>4                                                </td><td><span style=white-space:pre-wrap>&gt;2l   </span></td><td>30-35                                            </td><td><span style=white-space:pre-wrap>  25</span>     </td><td><span style=white-space:pre-wrap>  8</span>      </td></tr>\n",
       "\t<tr><td>4                                                </td><td><span style=white-space:pre-wrap>&gt;2l   </span></td><td><span style=white-space:pre-wrap>&gt;35  </span> </td><td> 114                                             </td><td> 33                                              </td></tr>\n",
       "</tbody>\n",
       "</table>\n"
      ],
      "text/latex": [
       "\\begin{tabular}{r|lllll}\n",
       " District & Group & Age & Holders & Claims\\\\\n",
       "\\hline\n",
       "\t 1      & <1l    & <25    &  197   &  38   \\\\\n",
       "\t 1      & <1l    & 25-29  &  264   &  35   \\\\\n",
       "\t 1      & <1l    & 30-35  &  246   &  20   \\\\\n",
       "\t 1      & <1l    & >35    & 1680   & 156   \\\\\n",
       "\t 1      & 1-1.5l & <25    &  284   &  63   \\\\\n",
       "\t 1      & 1-1.5l & 25-29  &  536   &  84   \\\\\n",
       "\t 1      & 1-1.5l & 30-35  &  696   &  89   \\\\\n",
       "\t 1      & 1-1.5l & >35    & 3582   & 400   \\\\\n",
       "\t 1      & 1.5-2l & <25    &  133   &  19   \\\\\n",
       "\t 1      & 1.5-2l & 25-29  &  286   &  52   \\\\\n",
       "\t 1      & 1.5-2l & 30-35  &  355   &  74   \\\\\n",
       "\t 1      & 1.5-2l & >35    & 1640   & 233   \\\\\n",
       "\t 1      & >2l    & <25    &   24   &   4   \\\\\n",
       "\t 1      & >2l    & 25-29  &   71   &  18   \\\\\n",
       "\t 1      & >2l    & 30-35  &   99   &  19   \\\\\n",
       "\t 1      & >2l    & >35    &  452   &  77   \\\\\n",
       "\t 2      & <1l    & <25    &   85   &  22   \\\\\n",
       "\t 2      & <1l    & 25-29  &  139   &  19   \\\\\n",
       "\t 2      & <1l    & 30-35  &  151   &  22   \\\\\n",
       "\t 2      & <1l    & >35    &  931   &  87   \\\\\n",
       "\t 2      & 1-1.5l & <25    &  149   &  25   \\\\\n",
       "\t 2      & 1-1.5l & 25-29  &  313   &  51   \\\\\n",
       "\t 2      & 1-1.5l & 30-35  &  419   &  49   \\\\\n",
       "\t 2      & 1-1.5l & >35    & 2443   & 290   \\\\\n",
       "\t 2      & 1.5-2l & <25    &   66   &  14   \\\\\n",
       "\t 2      & 1.5-2l & 25-29  &  175   &  46   \\\\\n",
       "\t 2      & 1.5-2l & 30-35  &  221   &  39   \\\\\n",
       "\t 2      & 1.5-2l & >35    & 1110   & 143   \\\\\n",
       "\t 2      & >2l    & <25    &    9   &   4   \\\\\n",
       "\t 2      & >2l    & 25-29  &   48   &  15   \\\\\n",
       "\t ⋮ & ⋮ & ⋮ & ⋮ & ⋮\\\\\n",
       "\t 3      & <1l    & 30-35  &   89   &  10   \\\\\n",
       "\t 3      & <1l    & >35    &  648   &  67   \\\\\n",
       "\t 3      & 1-1.5l & <25    &   53   &  10   \\\\\n",
       "\t 3      & 1-1.5l & 25-29  &  155   &  24   \\\\\n",
       "\t 3      & 1-1.5l & 30-35  &  240   &  37   \\\\\n",
       "\t 3      & 1-1.5l & >35    & 1635   & 187   \\\\\n",
       "\t 3      & 1.5-2l & <25    &   24   &   8   \\\\\n",
       "\t 3      & 1.5-2l & 25-29  &   78   &  19   \\\\\n",
       "\t 3      & 1.5-2l & 30-35  &  121   &  24   \\\\\n",
       "\t 3      & 1.5-2l & >35    &  692   & 101   \\\\\n",
       "\t 3      & >2l    & <25    &    7   &   3   \\\\\n",
       "\t 3      & >2l    & 25-29  &   29   &   2   \\\\\n",
       "\t 3      & >2l    & 30-35  &   43   &   8   \\\\\n",
       "\t 3      & >2l    & >35    &  245   &  37   \\\\\n",
       "\t 4      & <1l    & <25    &   20   &   2   \\\\\n",
       "\t 4      & <1l    & 25-29  &   33   &   5   \\\\\n",
       "\t 4      & <1l    & 30-35  &   40   &   4   \\\\\n",
       "\t 4      & <1l    & >35    &  316   &  36   \\\\\n",
       "\t 4      & 1-1.5l & <25    &   31   &   7   \\\\\n",
       "\t 4      & 1-1.5l & 25-29  &   81   &  10   \\\\\n",
       "\t 4      & 1-1.5l & 30-35  &  122   &  22   \\\\\n",
       "\t 4      & 1-1.5l & >35    &  724   & 102   \\\\\n",
       "\t 4      & 1.5-2l & <25    &   18   &   5   \\\\\n",
       "\t 4      & 1.5-2l & 25-29  &   39   &   7   \\\\\n",
       "\t 4      & 1.5-2l & 30-35  &   68   &  16   \\\\\n",
       "\t 4      & 1.5-2l & >35    &  344   &  63   \\\\\n",
       "\t 4      & >2l    & <25    &    3   &   0   \\\\\n",
       "\t 4      & >2l    & 25-29  &   16   &   6   \\\\\n",
       "\t 4      & >2l    & 30-35  &   25   &   8   \\\\\n",
       "\t 4      & >2l    & >35    &  114   &  33   \\\\\n",
       "\\end{tabular}\n"
      ],
      "text/markdown": [
       "\n",
       "| District | Group | Age | Holders | Claims |\n",
       "|---|---|---|---|---|\n",
       "| 1      | <1l    | <25    |  197   |  38    |\n",
       "| 1      | <1l    | 25-29  |  264   |  35    |\n",
       "| 1      | <1l    | 30-35  |  246   |  20    |\n",
       "| 1      | <1l    | >35    | 1680   | 156    |\n",
       "| 1      | 1-1.5l | <25    |  284   |  63    |\n",
       "| 1      | 1-1.5l | 25-29  |  536   |  84    |\n",
       "| 1      | 1-1.5l | 30-35  |  696   |  89    |\n",
       "| 1      | 1-1.5l | >35    | 3582   | 400    |\n",
       "| 1      | 1.5-2l | <25    |  133   |  19    |\n",
       "| 1      | 1.5-2l | 25-29  |  286   |  52    |\n",
       "| 1      | 1.5-2l | 30-35  |  355   |  74    |\n",
       "| 1      | 1.5-2l | >35    | 1640   | 233    |\n",
       "| 1      | >2l    | <25    |   24   |   4    |\n",
       "| 1      | >2l    | 25-29  |   71   |  18    |\n",
       "| 1      | >2l    | 30-35  |   99   |  19    |\n",
       "| 1      | >2l    | >35    |  452   |  77    |\n",
       "| 2      | <1l    | <25    |   85   |  22    |\n",
       "| 2      | <1l    | 25-29  |  139   |  19    |\n",
       "| 2      | <1l    | 30-35  |  151   |  22    |\n",
       "| 2      | <1l    | >35    |  931   |  87    |\n",
       "| 2      | 1-1.5l | <25    |  149   |  25    |\n",
       "| 2      | 1-1.5l | 25-29  |  313   |  51    |\n",
       "| 2      | 1-1.5l | 30-35  |  419   |  49    |\n",
       "| 2      | 1-1.5l | >35    | 2443   | 290    |\n",
       "| 2      | 1.5-2l | <25    |   66   |  14    |\n",
       "| 2      | 1.5-2l | 25-29  |  175   |  46    |\n",
       "| 2      | 1.5-2l | 30-35  |  221   |  39    |\n",
       "| 2      | 1.5-2l | >35    | 1110   | 143    |\n",
       "| 2      | >2l    | <25    |    9   |   4    |\n",
       "| 2      | >2l    | 25-29  |   48   |  15    |\n",
       "| ⋮ | ⋮ | ⋮ | ⋮ | ⋮ |\n",
       "| 3      | <1l    | 30-35  |   89   |  10    |\n",
       "| 3      | <1l    | >35    |  648   |  67    |\n",
       "| 3      | 1-1.5l | <25    |   53   |  10    |\n",
       "| 3      | 1-1.5l | 25-29  |  155   |  24    |\n",
       "| 3      | 1-1.5l | 30-35  |  240   |  37    |\n",
       "| 3      | 1-1.5l | >35    | 1635   | 187    |\n",
       "| 3      | 1.5-2l | <25    |   24   |   8    |\n",
       "| 3      | 1.5-2l | 25-29  |   78   |  19    |\n",
       "| 3      | 1.5-2l | 30-35  |  121   |  24    |\n",
       "| 3      | 1.5-2l | >35    |  692   | 101    |\n",
       "| 3      | >2l    | <25    |    7   |   3    |\n",
       "| 3      | >2l    | 25-29  |   29   |   2    |\n",
       "| 3      | >2l    | 30-35  |   43   |   8    |\n",
       "| 3      | >2l    | >35    |  245   |  37    |\n",
       "| 4      | <1l    | <25    |   20   |   2    |\n",
       "| 4      | <1l    | 25-29  |   33   |   5    |\n",
       "| 4      | <1l    | 30-35  |   40   |   4    |\n",
       "| 4      | <1l    | >35    |  316   |  36    |\n",
       "| 4      | 1-1.5l | <25    |   31   |   7    |\n",
       "| 4      | 1-1.5l | 25-29  |   81   |  10    |\n",
       "| 4      | 1-1.5l | 30-35  |  122   |  22    |\n",
       "| 4      | 1-1.5l | >35    |  724   | 102    |\n",
       "| 4      | 1.5-2l | <25    |   18   |   5    |\n",
       "| 4      | 1.5-2l | 25-29  |   39   |   7    |\n",
       "| 4      | 1.5-2l | 30-35  |   68   |  16    |\n",
       "| 4      | 1.5-2l | >35    |  344   |  63    |\n",
       "| 4      | >2l    | <25    |    3   |   0    |\n",
       "| 4      | >2l    | 25-29  |   16   |   6    |\n",
       "| 4      | >2l    | 30-35  |   25   |   8    |\n",
       "| 4      | >2l    | >35    |  114   |  33    |\n",
       "\n"
      ],
      "text/plain": [
       "   District Group  Age   Holders Claims\n",
       "1  1        <1l    <25    197     38   \n",
       "2  1        <1l    25-29  264     35   \n",
       "3  1        <1l    30-35  246     20   \n",
       "4  1        <1l    >35   1680    156   \n",
       "5  1        1-1.5l <25    284     63   \n",
       "6  1        1-1.5l 25-29  536     84   \n",
       "7  1        1-1.5l 30-35  696     89   \n",
       "8  1        1-1.5l >35   3582    400   \n",
       "9  1        1.5-2l <25    133     19   \n",
       "10 1        1.5-2l 25-29  286     52   \n",
       "11 1        1.5-2l 30-35  355     74   \n",
       "12 1        1.5-2l >35   1640    233   \n",
       "13 1        >2l    <25     24      4   \n",
       "14 1        >2l    25-29   71     18   \n",
       "15 1        >2l    30-35   99     19   \n",
       "16 1        >2l    >35    452     77   \n",
       "17 2        <1l    <25     85     22   \n",
       "18 2        <1l    25-29  139     19   \n",
       "19 2        <1l    30-35  151     22   \n",
       "20 2        <1l    >35    931     87   \n",
       "21 2        1-1.5l <25    149     25   \n",
       "22 2        1-1.5l 25-29  313     51   \n",
       "23 2        1-1.5l 30-35  419     49   \n",
       "24 2        1-1.5l >35   2443    290   \n",
       "25 2        1.5-2l <25     66     14   \n",
       "26 2        1.5-2l 25-29  175     46   \n",
       "27 2        1.5-2l 30-35  221     39   \n",
       "28 2        1.5-2l >35   1110    143   \n",
       "29 2        >2l    <25      9      4   \n",
       "30 2        >2l    25-29   48     15   \n",
       "⋮  ⋮        ⋮      ⋮     ⋮       ⋮     \n",
       "35 3        <1l    30-35   89     10   \n",
       "36 3        <1l    >35    648     67   \n",
       "37 3        1-1.5l <25     53     10   \n",
       "38 3        1-1.5l 25-29  155     24   \n",
       "39 3        1-1.5l 30-35  240     37   \n",
       "40 3        1-1.5l >35   1635    187   \n",
       "41 3        1.5-2l <25     24      8   \n",
       "42 3        1.5-2l 25-29   78     19   \n",
       "43 3        1.5-2l 30-35  121     24   \n",
       "44 3        1.5-2l >35    692    101   \n",
       "45 3        >2l    <25      7      3   \n",
       "46 3        >2l    25-29   29      2   \n",
       "47 3        >2l    30-35   43      8   \n",
       "48 3        >2l    >35    245     37   \n",
       "49 4        <1l    <25     20      2   \n",
       "50 4        <1l    25-29   33      5   \n",
       "51 4        <1l    30-35   40      4   \n",
       "52 4        <1l    >35    316     36   \n",
       "53 4        1-1.5l <25     31      7   \n",
       "54 4        1-1.5l 25-29   81     10   \n",
       "55 4        1-1.5l 30-35  122     22   \n",
       "56 4        1-1.5l >35    724    102   \n",
       "57 4        1.5-2l <25     18      5   \n",
       "58 4        1.5-2l 25-29   39      7   \n",
       "59 4        1.5-2l 30-35   68     16   \n",
       "60 4        1.5-2l >35    344     63   \n",
       "61 4        >2l    <25      3      0   \n",
       "62 4        >2l    25-29   16      6   \n",
       "63 4        >2l    30-35   25      8   \n",
       "64 4        >2l    >35    114     33   "
      ]
     },
     "metadata": {},
     "output_type": "display_data"
    },
    {
     "data": {
      "text/html": [
       "<ol class=list-inline>\n",
       "\t<li>1</li>\n",
       "\t<li>3</li>\n",
       "\t<li>7</li>\n",
       "</ol>\n"
      ],
      "text/latex": [
       "\\begin{enumerate*}\n",
       "\\item 1\n",
       "\\item 3\n",
       "\\item 7\n",
       "\\end{enumerate*}\n"
      ],
      "text/markdown": [
       "1. 1\n",
       "2. 3\n",
       "3. 7\n",
       "\n",
       "\n"
      ],
      "text/plain": [
       "[1] 1 3 7"
      ]
     },
     "metadata": {},
     "output_type": "display_data"
    },
    {
     "data": {
      "text/html": [
       "<ol class=list-inline>\n",
       "\t<li>1</li>\n",
       "\t<li>2</li>\n",
       "\t<li>3</li>\n",
       "\t<li>4</li>\n",
       "\t<li>5</li>\n",
       "\t<li>6</li>\n",
       "\t<li>7</li>\n",
       "\t<li>8</li>\n",
       "\t<li>9</li>\n",
       "\t<li>10</li>\n",
       "</ol>\n"
      ],
      "text/latex": [
       "\\begin{enumerate*}\n",
       "\\item 1\n",
       "\\item 2\n",
       "\\item 3\n",
       "\\item 4\n",
       "\\item 5\n",
       "\\item 6\n",
       "\\item 7\n",
       "\\item 8\n",
       "\\item 9\n",
       "\\item 10\n",
       "\\end{enumerate*}\n"
      ],
      "text/markdown": [
       "1. 1\n",
       "2. 2\n",
       "3. 3\n",
       "4. 4\n",
       "5. 5\n",
       "6. 6\n",
       "7. 7\n",
       "8. 8\n",
       "9. 9\n",
       "10. 10\n",
       "\n",
       "\n"
      ],
      "text/plain": [
       " [1]  1  2  3  4  5  6  7  8  9 10"
      ]
     },
     "metadata": {},
     "output_type": "display_data"
    },
    {
     "data": {
      "text/html": [
       "<table>\n",
       "<thead><tr><th scope=col>District</th><th scope=col>Group</th><th scope=col>Age</th><th scope=col>Holders</th><th scope=col>Claims</th></tr></thead>\n",
       "<tbody>\n",
       "\t<tr><td>1                                                </td><td><span style=white-space:pre-wrap>&lt;1l   </span></td><td><span style=white-space:pre-wrap>&lt;25  </span> </td><td> 197                                             </td><td> 38                                              </td></tr>\n",
       "\t<tr><td>1                                                </td><td><span style=white-space:pre-wrap>&lt;1l   </span></td><td>25-29                                            </td><td> 264                                             </td><td> 35                                              </td></tr>\n",
       "\t<tr><td>1                                                </td><td><span style=white-space:pre-wrap>&lt;1l   </span></td><td>30-35                                            </td><td> 246                                             </td><td> 20                                              </td></tr>\n",
       "\t<tr><td>1                                                </td><td><span style=white-space:pre-wrap>&lt;1l   </span></td><td><span style=white-space:pre-wrap>&gt;35  </span> </td><td>1680                                             </td><td>156                                              </td></tr>\n",
       "\t<tr><td>1                                               </td><td>1-1.5l                                          </td><td><span style=white-space:pre-wrap>&lt;25  </span></td><td> 284                                            </td><td> 63                                             </td></tr>\n",
       "\t<tr><td>1     </td><td>1-1.5l</td><td>25-29 </td><td> 536  </td><td> 84   </td></tr>\n",
       "\t<tr><td>1     </td><td>1-1.5l</td><td>30-35 </td><td> 696  </td><td> 89   </td></tr>\n",
       "\t<tr><td>1                                               </td><td>1-1.5l                                          </td><td><span style=white-space:pre-wrap>&gt;35  </span></td><td>3582                                            </td><td>400                                             </td></tr>\n",
       "\t<tr><td>1                                               </td><td>1.5-2l                                          </td><td><span style=white-space:pre-wrap>&lt;25  </span></td><td> 133                                            </td><td> 19                                             </td></tr>\n",
       "\t<tr><td>1     </td><td>1.5-2l</td><td>25-29 </td><td> 286  </td><td> 52   </td></tr>\n",
       "</tbody>\n",
       "</table>\n"
      ],
      "text/latex": [
       "\\begin{tabular}{r|lllll}\n",
       " District & Group & Age & Holders & Claims\\\\\n",
       "\\hline\n",
       "\t 1      & <1l    & <25    &  197   &  38   \\\\\n",
       "\t 1      & <1l    & 25-29  &  264   &  35   \\\\\n",
       "\t 1      & <1l    & 30-35  &  246   &  20   \\\\\n",
       "\t 1      & <1l    & >35    & 1680   & 156   \\\\\n",
       "\t 1      & 1-1.5l & <25    &  284   &  63   \\\\\n",
       "\t 1      & 1-1.5l & 25-29  &  536   &  84   \\\\\n",
       "\t 1      & 1-1.5l & 30-35  &  696   &  89   \\\\\n",
       "\t 1      & 1-1.5l & >35    & 3582   & 400   \\\\\n",
       "\t 1      & 1.5-2l & <25    &  133   &  19   \\\\\n",
       "\t 1      & 1.5-2l & 25-29  &  286   &  52   \\\\\n",
       "\\end{tabular}\n"
      ],
      "text/markdown": [
       "\n",
       "| District | Group | Age | Holders | Claims |\n",
       "|---|---|---|---|---|\n",
       "| 1      | <1l    | <25    |  197   |  38    |\n",
       "| 1      | <1l    | 25-29  |  264   |  35    |\n",
       "| 1      | <1l    | 30-35  |  246   |  20    |\n",
       "| 1      | <1l    | >35    | 1680   | 156    |\n",
       "| 1      | 1-1.5l | <25    |  284   |  63    |\n",
       "| 1      | 1-1.5l | 25-29  |  536   |  84    |\n",
       "| 1      | 1-1.5l | 30-35  |  696   |  89    |\n",
       "| 1      | 1-1.5l | >35    | 3582   | 400    |\n",
       "| 1      | 1.5-2l | <25    |  133   |  19    |\n",
       "| 1      | 1.5-2l | 25-29  |  286   |  52    |\n",
       "\n"
      ],
      "text/plain": [
       "   District Group  Age   Holders Claims\n",
       "1  1        <1l    <25    197     38   \n",
       "2  1        <1l    25-29  264     35   \n",
       "3  1        <1l    30-35  246     20   \n",
       "4  1        <1l    >35   1680    156   \n",
       "5  1        1-1.5l <25    284     63   \n",
       "6  1        1-1.5l 25-29  536     84   \n",
       "7  1        1-1.5l 30-35  696     89   \n",
       "8  1        1-1.5l >35   3582    400   \n",
       "9  1        1.5-2l <25    133     19   \n",
       "10 1        1.5-2l 25-29  286     52   "
      ]
     },
     "metadata": {},
     "output_type": "display_data"
    },
    {
     "data": {
      "text/html": [
       "<table>\n",
       "<thead><tr><th></th><th scope=col>District</th><th scope=col>Group</th><th scope=col>Age</th><th scope=col>Holders</th><th scope=col>Claims</th></tr></thead>\n",
       "<tbody>\n",
       "\t<tr><th scope=row>2</th><td>1                                                </td><td><span style=white-space:pre-wrap>&lt;1l   </span></td><td>25-29                                            </td><td> 264                                             </td><td> 35                                              </td></tr>\n",
       "\t<tr><th scope=row>4</th><td>1                                                </td><td><span style=white-space:pre-wrap>&lt;1l   </span></td><td><span style=white-space:pre-wrap>&gt;35  </span> </td><td>1680                                             </td><td>156                                              </td></tr>\n",
       "\t<tr><th scope=row>5</th><td>1                                               </td><td>1-1.5l                                          </td><td><span style=white-space:pre-wrap>&lt;25  </span></td><td> 284                                            </td><td> 63                                             </td></tr>\n",
       "\t<tr><th scope=row>6</th><td>1     </td><td>1-1.5l</td><td>25-29 </td><td> 536  </td><td> 84   </td></tr>\n",
       "\t<tr><th scope=row>8</th><td>1                                               </td><td>1-1.5l                                          </td><td><span style=white-space:pre-wrap>&gt;35  </span></td><td>3582                                            </td><td>400                                             </td></tr>\n",
       "\t<tr><th scope=row>9</th><td>1                                               </td><td>1.5-2l                                          </td><td><span style=white-space:pre-wrap>&lt;25  </span></td><td> 133                                            </td><td> 19                                             </td></tr>\n",
       "\t<tr><th scope=row>10</th><td>1     </td><td>1.5-2l</td><td>25-29 </td><td> 286  </td><td> 52   </td></tr>\n",
       "\t<tr><th scope=row>11</th><td>1     </td><td>1.5-2l</td><td>30-35 </td><td> 355  </td><td> 74   </td></tr>\n",
       "\t<tr><th scope=row>12</th><td>1                                               </td><td>1.5-2l                                          </td><td><span style=white-space:pre-wrap>&gt;35  </span></td><td>1640                                            </td><td>233                                             </td></tr>\n",
       "\t<tr><th scope=row>13</th><td>1                                                </td><td><span style=white-space:pre-wrap>&gt;2l   </span></td><td><span style=white-space:pre-wrap>&lt;25  </span> </td><td><span style=white-space:pre-wrap>  24</span>     </td><td><span style=white-space:pre-wrap>  4</span>      </td></tr>\n",
       "\t<tr><th scope=row>14</th><td>1                                                </td><td><span style=white-space:pre-wrap>&gt;2l   </span></td><td>25-29                                            </td><td><span style=white-space:pre-wrap>  71</span>     </td><td> 18                                              </td></tr>\n",
       "\t<tr><th scope=row>15</th><td>1                                                </td><td><span style=white-space:pre-wrap>&gt;2l   </span></td><td>30-35                                            </td><td><span style=white-space:pre-wrap>  99</span>     </td><td> 19                                              </td></tr>\n",
       "\t<tr><th scope=row>16</th><td>1                                                </td><td><span style=white-space:pre-wrap>&gt;2l   </span></td><td><span style=white-space:pre-wrap>&gt;35  </span> </td><td> 452                                             </td><td> 77                                              </td></tr>\n",
       "\t<tr><th scope=row>17</th><td>2                                                </td><td><span style=white-space:pre-wrap>&lt;1l   </span></td><td><span style=white-space:pre-wrap>&lt;25  </span> </td><td><span style=white-space:pre-wrap>  85</span>     </td><td> 22                                              </td></tr>\n",
       "\t<tr><th scope=row>18</th><td>2                                                </td><td><span style=white-space:pre-wrap>&lt;1l   </span></td><td>25-29                                            </td><td> 139                                             </td><td> 19                                              </td></tr>\n",
       "\t<tr><th scope=row>19</th><td>2                                                </td><td><span style=white-space:pre-wrap>&lt;1l   </span></td><td>30-35                                            </td><td> 151                                             </td><td> 22                                              </td></tr>\n",
       "\t<tr><th scope=row>20</th><td>2                                                </td><td><span style=white-space:pre-wrap>&lt;1l   </span></td><td><span style=white-space:pre-wrap>&gt;35  </span> </td><td> 931                                             </td><td> 87                                              </td></tr>\n",
       "\t<tr><th scope=row>21</th><td>2                                               </td><td>1-1.5l                                          </td><td><span style=white-space:pre-wrap>&lt;25  </span></td><td> 149                                            </td><td> 25                                             </td></tr>\n",
       "\t<tr><th scope=row>22</th><td>2     </td><td>1-1.5l</td><td>25-29 </td><td> 313  </td><td> 51   </td></tr>\n",
       "\t<tr><th scope=row>23</th><td>2     </td><td>1-1.5l</td><td>30-35 </td><td> 419  </td><td> 49   </td></tr>\n",
       "\t<tr><th scope=row>24</th><td>2                                               </td><td>1-1.5l                                          </td><td><span style=white-space:pre-wrap>&gt;35  </span></td><td>2443                                            </td><td>290                                             </td></tr>\n",
       "\t<tr><th scope=row>25</th><td>2                                               </td><td>1.5-2l                                          </td><td><span style=white-space:pre-wrap>&lt;25  </span></td><td><span style=white-space:pre-wrap>  66</span>    </td><td> 14                                             </td></tr>\n",
       "\t<tr><th scope=row>26</th><td>2     </td><td>1.5-2l</td><td>25-29 </td><td> 175  </td><td> 46   </td></tr>\n",
       "\t<tr><th scope=row>27</th><td>2     </td><td>1.5-2l</td><td>30-35 </td><td> 221  </td><td> 39   </td></tr>\n",
       "\t<tr><th scope=row>28</th><td>2                                               </td><td>1.5-2l                                          </td><td><span style=white-space:pre-wrap>&gt;35  </span></td><td>1110                                            </td><td>143                                             </td></tr>\n",
       "\t<tr><th scope=row>29</th><td>2                                                </td><td><span style=white-space:pre-wrap>&gt;2l   </span></td><td><span style=white-space:pre-wrap>&lt;25  </span> </td><td><span style=white-space:pre-wrap>   9</span>     </td><td><span style=white-space:pre-wrap>  4</span>      </td></tr>\n",
       "\t<tr><th scope=row>30</th><td>2                                                </td><td><span style=white-space:pre-wrap>&gt;2l   </span></td><td>25-29                                            </td><td><span style=white-space:pre-wrap>  48</span>     </td><td> 15                                              </td></tr>\n",
       "\t<tr><th scope=row>31</th><td>2                                                </td><td><span style=white-space:pre-wrap>&gt;2l   </span></td><td>30-35                                            </td><td><span style=white-space:pre-wrap>  72</span>     </td><td> 12                                              </td></tr>\n",
       "\t<tr><th scope=row>32</th><td>2                                                </td><td><span style=white-space:pre-wrap>&gt;2l   </span></td><td><span style=white-space:pre-wrap>&gt;35  </span> </td><td> 322                                             </td><td> 53                                              </td></tr>\n",
       "\t<tr><th scope=row>33</th><td>3                                                </td><td><span style=white-space:pre-wrap>&lt;1l   </span></td><td><span style=white-space:pre-wrap>&lt;25  </span> </td><td><span style=white-space:pre-wrap>  35</span>     </td><td><span style=white-space:pre-wrap>  5</span>      </td></tr>\n",
       "\t<tr><th scope=row>⋮</th><td>⋮</td><td>⋮</td><td>⋮</td><td>⋮</td><td>⋮</td></tr>\n",
       "\t<tr><th scope=row>35</th><td>3                                                </td><td><span style=white-space:pre-wrap>&lt;1l   </span></td><td>30-35                                            </td><td><span style=white-space:pre-wrap>  89</span>     </td><td> 10                                              </td></tr>\n",
       "\t<tr><th scope=row>36</th><td>3                                                </td><td><span style=white-space:pre-wrap>&lt;1l   </span></td><td><span style=white-space:pre-wrap>&gt;35  </span> </td><td> 648                                             </td><td> 67                                              </td></tr>\n",
       "\t<tr><th scope=row>37</th><td>3                                               </td><td>1-1.5l                                          </td><td><span style=white-space:pre-wrap>&lt;25  </span></td><td><span style=white-space:pre-wrap>  53</span>    </td><td> 10                                             </td></tr>\n",
       "\t<tr><th scope=row>38</th><td>3     </td><td>1-1.5l</td><td>25-29 </td><td> 155  </td><td> 24   </td></tr>\n",
       "\t<tr><th scope=row>39</th><td>3     </td><td>1-1.5l</td><td>30-35 </td><td> 240  </td><td> 37   </td></tr>\n",
       "\t<tr><th scope=row>40</th><td>3                                               </td><td>1-1.5l                                          </td><td><span style=white-space:pre-wrap>&gt;35  </span></td><td>1635                                            </td><td>187                                             </td></tr>\n",
       "\t<tr><th scope=row>41</th><td>3                                               </td><td>1.5-2l                                          </td><td><span style=white-space:pre-wrap>&lt;25  </span></td><td><span style=white-space:pre-wrap>  24</span>    </td><td><span style=white-space:pre-wrap>  8</span>     </td></tr>\n",
       "\t<tr><th scope=row>42</th><td>3     </td><td>1.5-2l</td><td>25-29 </td><td>  78  </td><td> 19   </td></tr>\n",
       "\t<tr><th scope=row>43</th><td>3     </td><td>1.5-2l</td><td>30-35 </td><td> 121  </td><td> 24   </td></tr>\n",
       "\t<tr><th scope=row>44</th><td>3                                               </td><td>1.5-2l                                          </td><td><span style=white-space:pre-wrap>&gt;35  </span></td><td> 692                                            </td><td>101                                             </td></tr>\n",
       "\t<tr><th scope=row>45</th><td>3                                                </td><td><span style=white-space:pre-wrap>&gt;2l   </span></td><td><span style=white-space:pre-wrap>&lt;25  </span> </td><td><span style=white-space:pre-wrap>   7</span>     </td><td><span style=white-space:pre-wrap>  3</span>      </td></tr>\n",
       "\t<tr><th scope=row>46</th><td>3                                                </td><td><span style=white-space:pre-wrap>&gt;2l   </span></td><td>25-29                                            </td><td><span style=white-space:pre-wrap>  29</span>     </td><td><span style=white-space:pre-wrap>  2</span>      </td></tr>\n",
       "\t<tr><th scope=row>47</th><td>3                                                </td><td><span style=white-space:pre-wrap>&gt;2l   </span></td><td>30-35                                            </td><td><span style=white-space:pre-wrap>  43</span>     </td><td><span style=white-space:pre-wrap>  8</span>      </td></tr>\n",
       "\t<tr><th scope=row>48</th><td>3                                                </td><td><span style=white-space:pre-wrap>&gt;2l   </span></td><td><span style=white-space:pre-wrap>&gt;35  </span> </td><td> 245                                             </td><td> 37                                              </td></tr>\n",
       "\t<tr><th scope=row>49</th><td>4                                                </td><td><span style=white-space:pre-wrap>&lt;1l   </span></td><td><span style=white-space:pre-wrap>&lt;25  </span> </td><td><span style=white-space:pre-wrap>  20</span>     </td><td><span style=white-space:pre-wrap>  2</span>      </td></tr>\n",
       "\t<tr><th scope=row>50</th><td>4                                                </td><td><span style=white-space:pre-wrap>&lt;1l   </span></td><td>25-29                                            </td><td><span style=white-space:pre-wrap>  33</span>     </td><td><span style=white-space:pre-wrap>  5</span>      </td></tr>\n",
       "\t<tr><th scope=row>51</th><td>4                                                </td><td><span style=white-space:pre-wrap>&lt;1l   </span></td><td>30-35                                            </td><td><span style=white-space:pre-wrap>  40</span>     </td><td><span style=white-space:pre-wrap>  4</span>      </td></tr>\n",
       "\t<tr><th scope=row>52</th><td>4                                                </td><td><span style=white-space:pre-wrap>&lt;1l   </span></td><td><span style=white-space:pre-wrap>&gt;35  </span> </td><td> 316                                             </td><td> 36                                              </td></tr>\n",
       "\t<tr><th scope=row>53</th><td>4                                               </td><td>1-1.5l                                          </td><td><span style=white-space:pre-wrap>&lt;25  </span></td><td><span style=white-space:pre-wrap>  31</span>    </td><td><span style=white-space:pre-wrap>  7</span>     </td></tr>\n",
       "\t<tr><th scope=row>54</th><td>4     </td><td>1-1.5l</td><td>25-29 </td><td>  81  </td><td> 10   </td></tr>\n",
       "\t<tr><th scope=row>55</th><td>4     </td><td>1-1.5l</td><td>30-35 </td><td> 122  </td><td> 22   </td></tr>\n",
       "\t<tr><th scope=row>56</th><td>4                                               </td><td>1-1.5l                                          </td><td><span style=white-space:pre-wrap>&gt;35  </span></td><td> 724                                            </td><td>102                                             </td></tr>\n",
       "\t<tr><th scope=row>57</th><td>4                                               </td><td>1.5-2l                                          </td><td><span style=white-space:pre-wrap>&lt;25  </span></td><td><span style=white-space:pre-wrap>  18</span>    </td><td><span style=white-space:pre-wrap>  5</span>     </td></tr>\n",
       "\t<tr><th scope=row>58</th><td>4     </td><td>1.5-2l</td><td>25-29 </td><td>  39  </td><td>  7   </td></tr>\n",
       "\t<tr><th scope=row>59</th><td>4     </td><td>1.5-2l</td><td>30-35 </td><td>  68  </td><td> 16   </td></tr>\n",
       "\t<tr><th scope=row>60</th><td>4                                               </td><td>1.5-2l                                          </td><td><span style=white-space:pre-wrap>&gt;35  </span></td><td> 344                                            </td><td> 63                                             </td></tr>\n",
       "\t<tr><th scope=row>61</th><td>4                                                </td><td><span style=white-space:pre-wrap>&gt;2l   </span></td><td><span style=white-space:pre-wrap>&lt;25  </span> </td><td><span style=white-space:pre-wrap>   3</span>     </td><td><span style=white-space:pre-wrap>  0</span>      </td></tr>\n",
       "\t<tr><th scope=row>62</th><td>4                                                </td><td><span style=white-space:pre-wrap>&gt;2l   </span></td><td>25-29                                            </td><td><span style=white-space:pre-wrap>  16</span>     </td><td><span style=white-space:pre-wrap>  6</span>      </td></tr>\n",
       "\t<tr><th scope=row>63</th><td>4                                                </td><td><span style=white-space:pre-wrap>&gt;2l   </span></td><td>30-35                                            </td><td><span style=white-space:pre-wrap>  25</span>     </td><td><span style=white-space:pre-wrap>  8</span>      </td></tr>\n",
       "\t<tr><th scope=row>64</th><td>4                                                </td><td><span style=white-space:pre-wrap>&gt;2l   </span></td><td><span style=white-space:pre-wrap>&gt;35  </span> </td><td> 114                                             </td><td> 33                                              </td></tr>\n",
       "</tbody>\n",
       "</table>\n"
      ],
      "text/latex": [
       "\\begin{tabular}{r|lllll}\n",
       "  & District & Group & Age & Holders & Claims\\\\\n",
       "\\hline\n",
       "\t2 & 1      & <1l    & 25-29  &  264   &  35   \\\\\n",
       "\t4 & 1      & <1l    & >35    & 1680   & 156   \\\\\n",
       "\t5 & 1      & 1-1.5l & <25    &  284   &  63   \\\\\n",
       "\t6 & 1      & 1-1.5l & 25-29  &  536   &  84   \\\\\n",
       "\t8 & 1      & 1-1.5l & >35    & 3582   & 400   \\\\\n",
       "\t9 & 1      & 1.5-2l & <25    &  133   &  19   \\\\\n",
       "\t10 & 1      & 1.5-2l & 25-29  &  286   &  52   \\\\\n",
       "\t11 & 1      & 1.5-2l & 30-35  &  355   &  74   \\\\\n",
       "\t12 & 1      & 1.5-2l & >35    & 1640   & 233   \\\\\n",
       "\t13 & 1      & >2l    & <25    &   24   &   4   \\\\\n",
       "\t14 & 1      & >2l    & 25-29  &   71   &  18   \\\\\n",
       "\t15 & 1      & >2l    & 30-35  &   99   &  19   \\\\\n",
       "\t16 & 1      & >2l    & >35    &  452   &  77   \\\\\n",
       "\t17 & 2      & <1l    & <25    &   85   &  22   \\\\\n",
       "\t18 & 2      & <1l    & 25-29  &  139   &  19   \\\\\n",
       "\t19 & 2      & <1l    & 30-35  &  151   &  22   \\\\\n",
       "\t20 & 2      & <1l    & >35    &  931   &  87   \\\\\n",
       "\t21 & 2      & 1-1.5l & <25    &  149   &  25   \\\\\n",
       "\t22 & 2      & 1-1.5l & 25-29  &  313   &  51   \\\\\n",
       "\t23 & 2      & 1-1.5l & 30-35  &  419   &  49   \\\\\n",
       "\t24 & 2      & 1-1.5l & >35    & 2443   & 290   \\\\\n",
       "\t25 & 2      & 1.5-2l & <25    &   66   &  14   \\\\\n",
       "\t26 & 2      & 1.5-2l & 25-29  &  175   &  46   \\\\\n",
       "\t27 & 2      & 1.5-2l & 30-35  &  221   &  39   \\\\\n",
       "\t28 & 2      & 1.5-2l & >35    & 1110   & 143   \\\\\n",
       "\t29 & 2      & >2l    & <25    &    9   &   4   \\\\\n",
       "\t30 & 2      & >2l    & 25-29  &   48   &  15   \\\\\n",
       "\t31 & 2      & >2l    & 30-35  &   72   &  12   \\\\\n",
       "\t32 & 2      & >2l    & >35    &  322   &  53   \\\\\n",
       "\t33 & 3      & <1l    & <25    &   35   &   5   \\\\\n",
       "\t⋮ & ⋮ & ⋮ & ⋮ & ⋮ & ⋮\\\\\n",
       "\t35 & 3      & <1l    & 30-35  &   89   &  10   \\\\\n",
       "\t36 & 3      & <1l    & >35    &  648   &  67   \\\\\n",
       "\t37 & 3      & 1-1.5l & <25    &   53   &  10   \\\\\n",
       "\t38 & 3      & 1-1.5l & 25-29  &  155   &  24   \\\\\n",
       "\t39 & 3      & 1-1.5l & 30-35  &  240   &  37   \\\\\n",
       "\t40 & 3      & 1-1.5l & >35    & 1635   & 187   \\\\\n",
       "\t41 & 3      & 1.5-2l & <25    &   24   &   8   \\\\\n",
       "\t42 & 3      & 1.5-2l & 25-29  &   78   &  19   \\\\\n",
       "\t43 & 3      & 1.5-2l & 30-35  &  121   &  24   \\\\\n",
       "\t44 & 3      & 1.5-2l & >35    &  692   & 101   \\\\\n",
       "\t45 & 3      & >2l    & <25    &    7   &   3   \\\\\n",
       "\t46 & 3      & >2l    & 25-29  &   29   &   2   \\\\\n",
       "\t47 & 3      & >2l    & 30-35  &   43   &   8   \\\\\n",
       "\t48 & 3      & >2l    & >35    &  245   &  37   \\\\\n",
       "\t49 & 4      & <1l    & <25    &   20   &   2   \\\\\n",
       "\t50 & 4      & <1l    & 25-29  &   33   &   5   \\\\\n",
       "\t51 & 4      & <1l    & 30-35  &   40   &   4   \\\\\n",
       "\t52 & 4      & <1l    & >35    &  316   &  36   \\\\\n",
       "\t53 & 4      & 1-1.5l & <25    &   31   &   7   \\\\\n",
       "\t54 & 4      & 1-1.5l & 25-29  &   81   &  10   \\\\\n",
       "\t55 & 4      & 1-1.5l & 30-35  &  122   &  22   \\\\\n",
       "\t56 & 4      & 1-1.5l & >35    &  724   & 102   \\\\\n",
       "\t57 & 4      & 1.5-2l & <25    &   18   &   5   \\\\\n",
       "\t58 & 4      & 1.5-2l & 25-29  &   39   &   7   \\\\\n",
       "\t59 & 4      & 1.5-2l & 30-35  &   68   &  16   \\\\\n",
       "\t60 & 4      & 1.5-2l & >35    &  344   &  63   \\\\\n",
       "\t61 & 4      & >2l    & <25    &    3   &   0   \\\\\n",
       "\t62 & 4      & >2l    & 25-29  &   16   &   6   \\\\\n",
       "\t63 & 4      & >2l    & 30-35  &   25   &   8   \\\\\n",
       "\t64 & 4      & >2l    & >35    &  114   &  33   \\\\\n",
       "\\end{tabular}\n"
      ],
      "text/markdown": [
       "\n",
       "| <!--/--> | District | Group | Age | Holders | Claims |\n",
       "|---|---|---|---|---|---|\n",
       "| 2 | 1      | <1l    | 25-29  |  264   |  35    |\n",
       "| 4 | 1      | <1l    | >35    | 1680   | 156    |\n",
       "| 5 | 1      | 1-1.5l | <25    |  284   |  63    |\n",
       "| 6 | 1      | 1-1.5l | 25-29  |  536   |  84    |\n",
       "| 8 | 1      | 1-1.5l | >35    | 3582   | 400    |\n",
       "| 9 | 1      | 1.5-2l | <25    |  133   |  19    |\n",
       "| 10 | 1      | 1.5-2l | 25-29  |  286   |  52    |\n",
       "| 11 | 1      | 1.5-2l | 30-35  |  355   |  74    |\n",
       "| 12 | 1      | 1.5-2l | >35    | 1640   | 233    |\n",
       "| 13 | 1      | >2l    | <25    |   24   |   4    |\n",
       "| 14 | 1      | >2l    | 25-29  |   71   |  18    |\n",
       "| 15 | 1      | >2l    | 30-35  |   99   |  19    |\n",
       "| 16 | 1      | >2l    | >35    |  452   |  77    |\n",
       "| 17 | 2      | <1l    | <25    |   85   |  22    |\n",
       "| 18 | 2      | <1l    | 25-29  |  139   |  19    |\n",
       "| 19 | 2      | <1l    | 30-35  |  151   |  22    |\n",
       "| 20 | 2      | <1l    | >35    |  931   |  87    |\n",
       "| 21 | 2      | 1-1.5l | <25    |  149   |  25    |\n",
       "| 22 | 2      | 1-1.5l | 25-29  |  313   |  51    |\n",
       "| 23 | 2      | 1-1.5l | 30-35  |  419   |  49    |\n",
       "| 24 | 2      | 1-1.5l | >35    | 2443   | 290    |\n",
       "| 25 | 2      | 1.5-2l | <25    |   66   |  14    |\n",
       "| 26 | 2      | 1.5-2l | 25-29  |  175   |  46    |\n",
       "| 27 | 2      | 1.5-2l | 30-35  |  221   |  39    |\n",
       "| 28 | 2      | 1.5-2l | >35    | 1110   | 143    |\n",
       "| 29 | 2      | >2l    | <25    |    9   |   4    |\n",
       "| 30 | 2      | >2l    | 25-29  |   48   |  15    |\n",
       "| 31 | 2      | >2l    | 30-35  |   72   |  12    |\n",
       "| 32 | 2      | >2l    | >35    |  322   |  53    |\n",
       "| 33 | 3      | <1l    | <25    |   35   |   5    |\n",
       "| ⋮ | ⋮ | ⋮ | ⋮ | ⋮ | ⋮ |\n",
       "| 35 | 3      | <1l    | 30-35  |   89   |  10    |\n",
       "| 36 | 3      | <1l    | >35    |  648   |  67    |\n",
       "| 37 | 3      | 1-1.5l | <25    |   53   |  10    |\n",
       "| 38 | 3      | 1-1.5l | 25-29  |  155   |  24    |\n",
       "| 39 | 3      | 1-1.5l | 30-35  |  240   |  37    |\n",
       "| 40 | 3      | 1-1.5l | >35    | 1635   | 187    |\n",
       "| 41 | 3      | 1.5-2l | <25    |   24   |   8    |\n",
       "| 42 | 3      | 1.5-2l | 25-29  |   78   |  19    |\n",
       "| 43 | 3      | 1.5-2l | 30-35  |  121   |  24    |\n",
       "| 44 | 3      | 1.5-2l | >35    |  692   | 101    |\n",
       "| 45 | 3      | >2l    | <25    |    7   |   3    |\n",
       "| 46 | 3      | >2l    | 25-29  |   29   |   2    |\n",
       "| 47 | 3      | >2l    | 30-35  |   43   |   8    |\n",
       "| 48 | 3      | >2l    | >35    |  245   |  37    |\n",
       "| 49 | 4      | <1l    | <25    |   20   |   2    |\n",
       "| 50 | 4      | <1l    | 25-29  |   33   |   5    |\n",
       "| 51 | 4      | <1l    | 30-35  |   40   |   4    |\n",
       "| 52 | 4      | <1l    | >35    |  316   |  36    |\n",
       "| 53 | 4      | 1-1.5l | <25    |   31   |   7    |\n",
       "| 54 | 4      | 1-1.5l | 25-29  |   81   |  10    |\n",
       "| 55 | 4      | 1-1.5l | 30-35  |  122   |  22    |\n",
       "| 56 | 4      | 1-1.5l | >35    |  724   | 102    |\n",
       "| 57 | 4      | 1.5-2l | <25    |   18   |   5    |\n",
       "| 58 | 4      | 1.5-2l | 25-29  |   39   |   7    |\n",
       "| 59 | 4      | 1.5-2l | 30-35  |   68   |  16    |\n",
       "| 60 | 4      | 1.5-2l | >35    |  344   |  63    |\n",
       "| 61 | 4      | >2l    | <25    |    3   |   0    |\n",
       "| 62 | 4      | >2l    | 25-29  |   16   |   6    |\n",
       "| 63 | 4      | >2l    | 30-35  |   25   |   8    |\n",
       "| 64 | 4      | >2l    | >35    |  114   |  33    |\n",
       "\n"
      ],
      "text/plain": [
       "   District Group  Age   Holders Claims\n",
       "2  1        <1l    25-29  264     35   \n",
       "4  1        <1l    >35   1680    156   \n",
       "5  1        1-1.5l <25    284     63   \n",
       "6  1        1-1.5l 25-29  536     84   \n",
       "8  1        1-1.5l >35   3582    400   \n",
       "9  1        1.5-2l <25    133     19   \n",
       "10 1        1.5-2l 25-29  286     52   \n",
       "11 1        1.5-2l 30-35  355     74   \n",
       "12 1        1.5-2l >35   1640    233   \n",
       "13 1        >2l    <25     24      4   \n",
       "14 1        >2l    25-29   71     18   \n",
       "15 1        >2l    30-35   99     19   \n",
       "16 1        >2l    >35    452     77   \n",
       "17 2        <1l    <25     85     22   \n",
       "18 2        <1l    25-29  139     19   \n",
       "19 2        <1l    30-35  151     22   \n",
       "20 2        <1l    >35    931     87   \n",
       "21 2        1-1.5l <25    149     25   \n",
       "22 2        1-1.5l 25-29  313     51   \n",
       "23 2        1-1.5l 30-35  419     49   \n",
       "24 2        1-1.5l >35   2443    290   \n",
       "25 2        1.5-2l <25     66     14   \n",
       "26 2        1.5-2l 25-29  175     46   \n",
       "27 2        1.5-2l 30-35  221     39   \n",
       "28 2        1.5-2l >35   1110    143   \n",
       "29 2        >2l    <25      9      4   \n",
       "30 2        >2l    25-29   48     15   \n",
       "31 2        >2l    30-35   72     12   \n",
       "32 2        >2l    >35    322     53   \n",
       "33 3        <1l    <25     35      5   \n",
       "⋮  ⋮        ⋮      ⋮     ⋮       ⋮     \n",
       "35 3        <1l    30-35   89     10   \n",
       "36 3        <1l    >35    648     67   \n",
       "37 3        1-1.5l <25     53     10   \n",
       "38 3        1-1.5l 25-29  155     24   \n",
       "39 3        1-1.5l 30-35  240     37   \n",
       "40 3        1-1.5l >35   1635    187   \n",
       "41 3        1.5-2l <25     24      8   \n",
       "42 3        1.5-2l 25-29   78     19   \n",
       "43 3        1.5-2l 30-35  121     24   \n",
       "44 3        1.5-2l >35    692    101   \n",
       "45 3        >2l    <25      7      3   \n",
       "46 3        >2l    25-29   29      2   \n",
       "47 3        >2l    30-35   43      8   \n",
       "48 3        >2l    >35    245     37   \n",
       "49 4        <1l    <25     20      2   \n",
       "50 4        <1l    25-29   33      5   \n",
       "51 4        <1l    30-35   40      4   \n",
       "52 4        <1l    >35    316     36   \n",
       "53 4        1-1.5l <25     31      7   \n",
       "54 4        1-1.5l 25-29   81     10   \n",
       "55 4        1-1.5l 30-35  122     22   \n",
       "56 4        1-1.5l >35    724    102   \n",
       "57 4        1.5-2l <25     18      5   \n",
       "58 4        1.5-2l 25-29   39      7   \n",
       "59 4        1.5-2l 30-35   68     16   \n",
       "60 4        1.5-2l >35    344     63   \n",
       "61 4        >2l    <25      3      0   \n",
       "62 4        >2l    25-29   16      6   \n",
       "63 4        >2l    30-35   25      8   \n",
       "64 4        >2l    >35    114     33   "
      ]
     },
     "metadata": {},
     "output_type": "display_data"
    },
    {
     "data": {
      "text/html": [
       "<table>\n",
       "<thead><tr><th></th><th scope=col>Group</th><th scope=col>Age</th></tr></thead>\n",
       "<tbody>\n",
       "\t<tr><th scope=row>1</th><td><span style=white-space:pre-wrap>&lt;1l   </span></td><td><span style=white-space:pre-wrap>&lt;25  </span> </td></tr>\n",
       "\t<tr><th scope=row>3</th><td><span style=white-space:pre-wrap>&lt;1l   </span></td><td>30-35                                            </td></tr>\n",
       "\t<tr><th scope=row>6</th><td>1-1.5l</td><td>25-29 </td></tr>\n",
       "</tbody>\n",
       "</table>\n"
      ],
      "text/latex": [
       "\\begin{tabular}{r|ll}\n",
       "  & Group & Age\\\\\n",
       "\\hline\n",
       "\t1 & <1l    & <25   \\\\\n",
       "\t3 & <1l    & 30-35 \\\\\n",
       "\t6 & 1-1.5l & 25-29 \\\\\n",
       "\\end{tabular}\n"
      ],
      "text/markdown": [
       "\n",
       "| <!--/--> | Group | Age |\n",
       "|---|---|---|\n",
       "| 1 | <1l    | <25    |\n",
       "| 3 | <1l    | 30-35  |\n",
       "| 6 | 1-1.5l | 25-29  |\n",
       "\n"
      ],
      "text/plain": [
       "  Group  Age  \n",
       "1 <1l    <25  \n",
       "3 <1l    30-35\n",
       "6 1-1.5l 25-29"
      ]
     },
     "metadata": {},
     "output_type": "display_data"
    }
   ],
   "source": [
    "Insurance[ , ]\n",
    "c(1, 3, 7)\n",
    "1:10\n",
    "Insurance[1:10 , ]\n",
    "Insurance[-c( 1, 3, 7), ] # negative indices are excluded> d.sport[ , 2:3]\n",
    "Insurance[c(1, 3, 6), 2:3]"
   ]
  },
  {
   "cell_type": "markdown",
   "metadata": {},
   "source": [
    "## 7 - R Functions"
   ]
  },
  {
   "cell_type": "markdown",
   "metadata": {},
   "source": [
    "Example function calls"
   ]
  },
  {
   "cell_type": "code",
   "execution_count": 370,
   "metadata": {},
   "outputs": [
    {
     "data": {
      "text/html": [
       "49.234375"
      ],
      "text/latex": [
       "49.234375"
      ],
      "text/markdown": [
       "49.234375"
      ],
      "text/plain": [
       "[1] 49.23438"
      ]
     },
     "metadata": {},
     "output_type": "display_data"
    },
    {
     "data": {
      "text/html": [
       "<dl class=dl-horizontal>\n",
       "\t<dt>0%</dt>\n",
       "\t\t<dd>0</dd>\n",
       "\t<dt>25%</dt>\n",
       "\t\t<dd>9.5</dd>\n",
       "\t<dt>50%</dt>\n",
       "\t\t<dd>22</dd>\n",
       "\t<dt>75%</dt>\n",
       "\t\t<dd>55.5</dd>\n",
       "\t<dt>100%</dt>\n",
       "\t\t<dd>400</dd>\n",
       "</dl>\n"
      ],
      "text/latex": [
       "\\begin{description*}\n",
       "\\item[0\\textbackslash{}\\%] 0\n",
       "\\item[25\\textbackslash{}\\%] 9.5\n",
       "\\item[50\\textbackslash{}\\%] 22\n",
       "\\item[75\\textbackslash{}\\%] 55.5\n",
       "\\item[100\\textbackslash{}\\%] 400\n",
       "\\end{description*}\n"
      ],
      "text/markdown": [
       "0%\n",
       ":   025%\n",
       ":   9.550%\n",
       ":   2275%\n",
       ":   55.5100%\n",
       ":   400\n",
       "\n"
      ],
      "text/plain": [
       "   0%   25%   50%   75%  100% \n",
       "  0.0   9.5  22.0  55.5 400.0 "
      ]
     },
     "metadata": {},
     "output_type": "display_data"
    },
    {
     "data": {
      "text/html": [
       "<dl class=dl-horizontal>\n",
       "\t<dt>75%</dt>\n",
       "\t\t<dd>55.5</dd>\n",
       "\t<dt>90%</dt>\n",
       "\t\t<dd>101.7</dd>\n",
       "</dl>\n"
      ],
      "text/latex": [
       "\\begin{description*}\n",
       "\\item[75\\textbackslash{}\\%] 55.5\n",
       "\\item[90\\textbackslash{}\\%] 101.7\n",
       "\\end{description*}\n"
      ],
      "text/markdown": [
       "75%\n",
       ":   55.590%\n",
       ":   101.7\n",
       "\n"
      ],
      "text/plain": [
       "  75%   90% \n",
       " 55.5 101.7 "
      ]
     },
     "metadata": {},
     "output_type": "display_data"
    }
   ],
   "source": [
    "mean(Insurance$Claims)\n",
    "quantile(Insurance$Claims)\n",
    "quantile(Insurance$Claims, probs = c(0.75, 0.9))"
   ]
  },
  {
   "cell_type": "markdown",
   "metadata": {},
   "source": [
    "Always check out the functions help function with ?mean and ?quantile."
   ]
  },
  {
   "cell_type": "markdown",
   "metadata": {},
   "source": [
    "Functions consist of mandatory and optional arguments:\n",
    "mean(x, trim = 0, na.rm = FALSE, ...)\n",
    "x:  mandatory argument\n",
    "trim:  optional argument, default is 0\n",
    "na.rm:  optional argument, default is FALSE"
   ]
  },
  {
   "cell_type": "markdown",
   "metadata": {},
   "source": [
    "The arguments of a function have a defined order and each argument has its own unique name."
   ]
  },
  {
   "cell_type": "code",
   "execution_count": 396,
   "metadata": {},
   "outputs": [
    {
     "data": {
      "text/html": [
       "49.234375"
      ],
      "text/latex": [
       "49.234375"
      ],
      "text/markdown": [
       "49.234375"
      ],
      "text/plain": [
       "[1] 49.23438"
      ]
     },
     "metadata": {},
     "output_type": "display_data"
    }
   ],
   "source": [
    "mean(x = Insurance$Claims, na.rm = TRUE)"
   ]
  },
  {
   "cell_type": "markdown",
   "metadata": {},
   "source": [
    "You can either use the names of the arguments, or place the values in the correct order (or a mix of both):"
   ]
  },
  {
   "cell_type": "code",
   "execution_count": 408,
   "metadata": {},
   "outputs": [
    {
     "data": {
      "text/html": [
       "49.234375"
      ],
      "text/latex": [
       "49.234375"
      ],
      "text/markdown": [
       "49.234375"
      ],
      "text/plain": [
       "[1] 49.23438"
      ]
     },
     "metadata": {},
     "output_type": "display_data"
    }
   ],
   "source": [
    "mean(Insurance$Claims, ,TRUE)"
   ]
  },
  {
   "cell_type": "markdown",
   "metadata": {},
   "source": [
    "Example functions with no mandatory arguments:  matrix(), vector(),array(), list()> ?matrix"
   ]
  },
  {
   "cell_type": "markdown",
   "metadata": {},
   "source": [
    "## 8 - Useful functions"
   ]
  },
  {
   "cell_type": "markdown",
   "metadata": {},
   "source": [
    "Useful functions (look for help by typing ?str):\n",
    "\n",
    "* str()\n",
    "* nrow() and ncol()\n",
    "* dim()\n",
    "* summary()\n",
    "* apply()\n",
    "* head() and tail()\n",
    "see also R Reference card"
   ]
  },
  {
   "cell_type": "markdown",
   "metadata": {},
   "source": [
    "## 9 - Packages"
   ]
  },
  {
   "cell_type": "markdown",
   "metadata": {},
   "source": [
    "By default, R only provides a basic set of functions.  Additional functions(and datasets) are obtained by loading additional * add-on packages*"
   ]
  },
  {
   "cell_type": "markdown",
   "metadata": {},
   "source": [
    "Install and load \"MASS\" package (https://cran.r-project.org/web/packages/MASS/MASS.pdf. There is always a pdf containing information about the package."
   ]
  },
  {
   "cell_type": "code",
   "execution_count": 451,
   "metadata": {},
   "outputs": [],
   "source": [
    "#install.packages(\"MASS\") # install onto computer once\n",
    "require(MASS) # for every R session.\n",
    "library(MASS)"
   ]
  },
  {
   "cell_type": "markdown",
   "metadata": {},
   "source": [
    "Online resources:\n",
    "\n",
    "* list of all packages:http://cran.r-project.org/web/packages/I\n",
    "\n",
    "* by topic: http://cran.r-project.org/web/views/I\n",
    "\n",
    "* ask Google"
   ]
  },
  {
   "cell_type": "markdown",
   "metadata": {},
   "source": [
    "## 10 - Further reading"
   ]
  },
  {
   "cell_type": "markdown",
   "metadata": {},
   "source": [
    "For continuation on that level, see\n",
    "ftp://ess.r-project.org/users/sfs/RKurs/R.Intro/slides.pdf\n",
    "\n",
    "Google's R Style Guide (\"how to write good R code\")\n",
    "https://google.github.io/styleguide/Rguide.xml\n",
    "\n",
    "RStudio Cheat Sheets (phantastic!)\n",
    "https://www.rstudio.com/resources/cheatsheets/"
   ]
  }
 ],
 "metadata": {
  "kernelspec": {
   "display_name": "R",
   "language": "R",
   "name": "ir"
  },
  "language_info": {
   "codemirror_mode": "r",
   "file_extension": ".r",
   "mimetype": "text/x-r-source",
   "name": "R",
   "pygments_lexer": "r",
   "version": "3.4.4"
  }
 },
 "nbformat": 4,
 "nbformat_minor": 2
}

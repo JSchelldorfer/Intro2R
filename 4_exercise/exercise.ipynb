{
 "cells": [
  {
   "cell_type": "code",
   "execution_count": 1,
   "metadata": {},
   "outputs": [
    {
     "name": "stderr",
     "output_type": "stream",
     "text": [
      "Loading required package: CASdatasets\n",
      "Loading required package: xts\n",
      "Loading required package: zoo\n",
      "\n",
      "Attaching package: ‘zoo’\n",
      "\n",
      "The following objects are masked from ‘package:base’:\n",
      "\n",
      "    as.Date, as.Date.numeric\n",
      "\n",
      "Loading required package: sp\n",
      "Loading required package: tidyverse\n",
      "── Attaching packages ─────────────────────────────────────── tidyverse 1.2.1 ──\n",
      "✔ ggplot2 3.1.0     ✔ purrr   0.2.5\n",
      "✔ tibble  2.0.1     ✔ dplyr   0.7.8\n",
      "✔ tidyr   0.8.2     ✔ stringr 1.3.1\n",
      "✔ readr   1.3.1     ✔ forcats 0.3.0\n",
      "── Conflicts ────────────────────────────────────────── tidyverse_conflicts() ──\n",
      "✖ dplyr::filter() masks stats::filter()\n",
      "✖ dplyr::first()  masks xts::first()\n",
      "✖ dplyr::lag()    masks stats::lag()\n",
      "✖ dplyr::last()   masks xts::last()\n",
      "Loading required package: caret\n",
      "Loading required package: lattice\n",
      "\n",
      "Attaching package: ‘caret’\n",
      "\n",
      "The following object is masked from ‘package:purrr’:\n",
      "\n",
      "    lift\n",
      "\n",
      "Loading required package: plyr\n",
      "------------------------------------------------------------------------------\n",
      "You have loaded plyr after dplyr - this is likely to cause problems.\n",
      "If you need functions from both plyr and dplyr, please load plyr first, then dplyr:\n",
      "library(plyr); library(dplyr)\n",
      "------------------------------------------------------------------------------\n",
      "\n",
      "Attaching package: ‘plyr’\n",
      "\n",
      "The following objects are masked from ‘package:dplyr’:\n",
      "\n",
      "    arrange, count, desc, failwith, id, mutate, rename, summarise,\n",
      "    summarize\n",
      "\n",
      "The following object is masked from ‘package:purrr’:\n",
      "\n",
      "    compact\n",
      "\n",
      "Loading required package: mgcv\n",
      "Loading required package: nlme\n",
      "\n",
      "Attaching package: ‘nlme’\n",
      "\n",
      "The following object is masked from ‘package:dplyr’:\n",
      "\n",
      "    collapse\n",
      "\n",
      "This is mgcv 1.8-28. For overview type 'help(\"mgcv-package\")'.\n",
      "Loading required package: gridExtra\n",
      "\n",
      "Attaching package: ‘gridExtra’\n",
      "\n",
      "The following object is masked from ‘package:dplyr’:\n",
      "\n",
      "    combine\n",
      "\n",
      "Loading required package: visreg\n",
      "Loading required package: MASS\n",
      "\n",
      "Attaching package: ‘MASS’\n",
      "\n",
      "The following object is masked from ‘package:dplyr’:\n",
      "\n",
      "    select\n",
      "\n"
     ]
    }
   ],
   "source": [
    "options(encoding = 'UTF-8')\n",
    "\n",
    "#Loading all the necessary packages\n",
    "if (!require(\"CASdatasets\")) install.packages(\"CASdatasets\", repos = \"http://cas.uqam.ca/pub/R/\", type=\"source\")\n",
    "if (!require(\"tidyverse\")) install.packages(\"tidyverse\")\n",
    "if (!require(\"caret\")) install.packages(\"caret\")\n",
    "if (!require(\"plyr\")) install.packages(\"plyr\")\n",
    "if (!require(\"mgcv\")) install.packages(\"mgcv\")\n",
    "if (!require(\"gridExtra\")) install.packages(\"gridExtra\")\n",
    "if (!require(\"visreg\")) install.packages(\"visreg\")\n",
    "if (!require(\"MASS\")) install.packages(\"MASS\")\n",
    "\n",
    "require(\"CASdatasets\")\n",
    "require(\"tidyverse\")\n",
    "require(\"plyr\")\n",
    "require(\"caret\")\n",
    "require(\"mgcv\")\n",
    "require(\"gridExtra\")\n",
    "require(\"visreg\")\n",
    "require(\"MASS\")"
   ]
  },
  {
   "cell_type": "markdown",
   "metadata": {},
   "source": [
    "# Introduction"
   ]
  },
  {
   "cell_type": "markdown",
   "metadata": {},
   "source": [
    "### Load data"
   ]
  },
  {
   "cell_type": "code",
   "execution_count": 3,
   "metadata": {},
   "outputs": [],
   "source": [
    "## If CASdatasets package can be loaded, run the following\n",
    "## Loading the dataset\n",
    "require(\"CASdatasets\")\n",
    "data(\"ausprivauto0405\")\n",
    " \n",
    "## split the data set for analysis\n",
    "set.seed(85)\n",
    "folds = createDataPartition(ausprivauto0405$ClaimNb, 0.5)\n",
    "df_ausprivauto0405 = ausprivauto0405[folds[[1]], ]\n",
    "# save(df_ausprivauto0405, file=\"../df_ausprivauto0405.RData\")\n",
    "\n",
    "## If CASdatasets package can not be loaded, run the following:\n",
    "#load(\"df_ausprivauto0405.RData\") # load(file=\"path to the file df_ausprivauto0405\")\n",
    "dataset <- df_ausprivauto0405 # store as dataset for easier re-use of previous code"
   ]
  },
  {
   "cell_type": "markdown",
   "metadata": {},
   "source": [
    "### Check data structure"
   ]
  },
  {
   "cell_type": "code",
   "execution_count": 4,
   "metadata": {},
   "outputs": [
    {
     "data": {
      "text/html": [
       "<table>\n",
       "<thead><tr><th></th><th scope=col>Exposure</th><th scope=col>VehValue</th><th scope=col>VehAge</th><th scope=col>VehBody</th><th scope=col>Gender</th><th scope=col>DrivAge</th><th scope=col>ClaimOcc</th><th scope=col>ClaimNb</th><th scope=col>ClaimAmount</th></tr></thead>\n",
       "<tbody>\n",
       "\t<tr><th scope=row>3</th><td>0.5694730         </td><td>3.26              </td><td>young cars        </td><td>Utility           </td><td>Female            </td><td>young people      </td><td>0                 </td><td>0                 </td><td>0                 </td></tr>\n",
       "\t<tr><th scope=row>6</th><td>0.8542094         </td><td>2.01              </td><td>old cars          </td><td>Hardtop           </td><td>Male              </td><td>older work. people</td><td>0                 </td><td>0                 </td><td>0                 </td></tr>\n",
       "\t<tr><th scope=row>8</th><td>0.5557837         </td><td>1.47              </td><td>young cars        </td><td>Hatchback         </td><td>Male              </td><td>oldest people     </td><td>0                 </td><td>0                 </td><td>0                 </td></tr>\n",
       "\t<tr><th scope=row>9</th><td>0.3613963         </td><td>0.52              </td><td>oldest cars       </td><td>Hatchback         </td><td>Female            </td><td>working people    </td><td>0                 </td><td>0                 </td><td>0                 </td></tr>\n",
       "\t<tr><th scope=row>11</th><td>0.8542094         </td><td>1.38              </td><td>young cars        </td><td>Hatchback         </td><td>Male              </td><td>young people      </td><td>0                 </td><td>0                 </td><td>0                 </td></tr>\n",
       "\t<tr><th scope=row>12</th><td>0.8542094         </td><td>1.22              </td><td>old cars          </td><td>Hatchback         </td><td>Male              </td><td>older work. people</td><td>0                 </td><td>0                 </td><td>0                 </td></tr>\n",
       "</tbody>\n",
       "</table>\n"
      ],
      "text/latex": [
       "\\begin{tabular}{r|lllllllll}\n",
       "  & Exposure & VehValue & VehAge & VehBody & Gender & DrivAge & ClaimOcc & ClaimNb & ClaimAmount\\\\\n",
       "\\hline\n",
       "\t3 & 0.5694730          & 3.26               & young cars         & Utility            & Female             & young people       & 0                  & 0                  & 0                 \\\\\n",
       "\t6 & 0.8542094          & 2.01               & old cars           & Hardtop            & Male               & older work. people & 0                  & 0                  & 0                 \\\\\n",
       "\t8 & 0.5557837          & 1.47               & young cars         & Hatchback          & Male               & oldest people      & 0                  & 0                  & 0                 \\\\\n",
       "\t9 & 0.3613963          & 0.52               & oldest cars        & Hatchback          & Female             & working people     & 0                  & 0                  & 0                 \\\\\n",
       "\t11 & 0.8542094          & 1.38               & young cars         & Hatchback          & Male               & young people       & 0                  & 0                  & 0                 \\\\\n",
       "\t12 & 0.8542094          & 1.22               & old cars           & Hatchback          & Male               & older work. people & 0                  & 0                  & 0                 \\\\\n",
       "\\end{tabular}\n"
      ],
      "text/markdown": [
       "\n",
       "| <!--/--> | Exposure | VehValue | VehAge | VehBody | Gender | DrivAge | ClaimOcc | ClaimNb | ClaimAmount |\n",
       "|---|---|---|---|---|---|---|---|---|---|\n",
       "| 3 | 0.5694730          | 3.26               | young cars         | Utility            | Female             | young people       | 0                  | 0                  | 0                  |\n",
       "| 6 | 0.8542094          | 2.01               | old cars           | Hardtop            | Male               | older work. people | 0                  | 0                  | 0                  |\n",
       "| 8 | 0.5557837          | 1.47               | young cars         | Hatchback          | Male               | oldest people      | 0                  | 0                  | 0                  |\n",
       "| 9 | 0.3613963          | 0.52               | oldest cars        | Hatchback          | Female             | working people     | 0                  | 0                  | 0                  |\n",
       "| 11 | 0.8542094          | 1.38               | young cars         | Hatchback          | Male               | young people       | 0                  | 0                  | 0                  |\n",
       "| 12 | 0.8542094          | 1.22               | old cars           | Hatchback          | Male               | older work. people | 0                  | 0                  | 0                  |\n",
       "\n"
      ],
      "text/plain": [
       "   Exposure  VehValue VehAge      VehBody   Gender DrivAge            ClaimOcc\n",
       "3  0.5694730 3.26     young cars  Utility   Female young people       0       \n",
       "6  0.8542094 2.01     old cars    Hardtop   Male   older work. people 0       \n",
       "8  0.5557837 1.47     young cars  Hatchback Male   oldest people      0       \n",
       "9  0.3613963 0.52     oldest cars Hatchback Female working people     0       \n",
       "11 0.8542094 1.38     young cars  Hatchback Male   young people       0       \n",
       "12 0.8542094 1.22     old cars    Hatchback Male   older work. people 0       \n",
       "   ClaimNb ClaimAmount\n",
       "3  0       0          \n",
       "6  0       0          \n",
       "8  0       0          \n",
       "9  0       0          \n",
       "11 0       0          \n",
       "12 0       0          "
      ]
     },
     "metadata": {},
     "output_type": "display_data"
    }
   ],
   "source": [
    "head(dataset)"
   ]
  },
  {
   "cell_type": "code",
   "execution_count": 5,
   "metadata": {},
   "outputs": [
    {
     "name": "stdout",
     "output_type": "stream",
     "text": [
      "'data.frame':\t33928 obs. of  9 variables:\n",
      " $ Exposure   : num  0.569 0.854 0.556 0.361 0.854 ...\n",
      " $ VehValue   : num  3.26 2.01 1.47 0.52 1.38 1.22 1 1.66 0.76 0.27 ...\n",
      " $ VehAge     : Factor w/ 4 levels \"old cars\",\"oldest cars\",..: 3 1 3 2 3 1 3 1 1 2 ...\n",
      " $ VehBody    : Factor w/ 13 levels \"Bus\",\"Convertible\",..: 13 4 5 5 5 5 5 10 5 5 ...\n",
      " $ Gender     : Factor w/ 2 levels \"Female\",\"Male\": 1 2 2 1 2 2 1 2 2 1 ...\n",
      " $ DrivAge    : Factor w/ 6 levels \"old people\",\"older work. people\",..: 5 2 3 4 5 2 2 3 2 5 ...\n",
      " $ ClaimOcc   : int  0 0 0 0 0 0 0 1 1 0 ...\n",
      " $ ClaimNb    : int  0 0 0 0 0 0 0 1 1 0 ...\n",
      " $ ClaimAmount: num  0 0 0 0 0 ...\n"
     ]
    }
   ],
   "source": [
    "str(dataset)"
   ]
  },
  {
   "cell_type": "code",
   "execution_count": 6,
   "metadata": {},
   "outputs": [
    {
     "data": {
      "text/plain": [
       "    Exposure           VehValue                VehAge     \n",
       " Min.   :0.002738   Min.   : 0.000   old cars     :10050  \n",
       " 1st Qu.:0.219028   1st Qu.: 1.010   oldest cars  : 9409  \n",
       " Median :0.443532   Median : 1.490   young cars   : 8312  \n",
       " Mean   :0.468039   Mean   : 1.773   youngest cars: 6157  \n",
       " 3rd Qu.:0.709103   3rd Qu.: 2.140                        \n",
       " Max.   :0.999316   Max.   :23.590                        \n",
       "                                                          \n",
       "          VehBody         Gender                    DrivAge    \n",
       " Sedan        :11156   Female:19460   old people        :5381  \n",
       " Hatchback    : 9544   Male  :14468   older work. people:8119  \n",
       " Station wagon: 8140                  oldest people     :3285  \n",
       " Utility      : 2189                  working people    :7832  \n",
       " Truck        :  842                  young people      :6497  \n",
       " Hardtop      :  800                  youngest people   :2814  \n",
       " (Other)      : 1257                                           \n",
       "    ClaimOcc          ClaimNb         ClaimAmount     \n",
       " Min.   :0.00000   Min.   :0.00000   Min.   :    0.0  \n",
       " 1st Qu.:0.00000   1st Qu.:0.00000   1st Qu.:    0.0  \n",
       " Median :0.00000   Median :0.00000   Median :    0.0  \n",
       " Mean   :0.06652   Mean   :0.07094   Mean   :  137.6  \n",
       " 3rd Qu.:0.00000   3rd Qu.:0.00000   3rd Qu.:    0.0  \n",
       " Max.   :1.00000   Max.   :3.00000   Max.   :55922.1  \n",
       "                                                      "
      ]
     },
     "metadata": {},
     "output_type": "display_data"
    }
   ],
   "source": [
    "summary(dataset)"
   ]
  },
  {
   "cell_type": "markdown",
   "metadata": {},
   "source": [
    "# Descriptive Analysis of the portfolio"
   ]
  },
  {
   "cell_type": "code",
   "execution_count": null,
   "metadata": {},
   "outputs": [],
   "source": []
  }
 ],
 "metadata": {
  "kernelspec": {
   "display_name": "R",
   "language": "R",
   "name": "ir"
  },
  "language_info": {
   "codemirror_mode": "r",
   "file_extension": ".r",
   "mimetype": "text/x-r-source",
   "name": "R",
   "pygments_lexer": "r",
   "version": "3.4.4"
  }
 },
 "nbformat": 4,
 "nbformat_minor": 2
}
